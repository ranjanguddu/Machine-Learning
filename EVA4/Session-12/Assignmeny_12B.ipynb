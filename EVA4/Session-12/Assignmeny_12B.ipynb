{
  "nbformat": 4,
  "nbformat_minor": 0,
  "metadata": {
    "kernelspec": {
      "display_name": "Python 3",
      "language": "python",
      "name": "python3"
    },
    "language_info": {
      "codemirror_mode": {
        "name": "ipython",
        "version": 3
      },
      "file_extension": ".py",
      "mimetype": "text/x-python",
      "name": "python",
      "nbconvert_exporter": "python",
      "pygments_lexer": "ipython3",
      "version": "3.7.3"
    },
    "colab": {
      "name": "Assignmeny-12B.ipynb",
      "provenance": [],
      "include_colab_link": true
    }
  },
  "cells": [
    {
      "cell_type": "markdown",
      "metadata": {
        "id": "view-in-github",
        "colab_type": "text"
      },
      "source": [
        "<a href=\"https://colab.research.google.com/github/ranjanguddu/Machine-Learning/blob/master/EVA4/Session-12/Assignmeny_12B.ipynb\" target=\"_parent\"><img src=\"https://colab.research.google.com/assets/colab-badge.svg\" alt=\"Open In Colab\"/></a>"
      ]
    },
    {
      "cell_type": "code",
      "metadata": {
        "id": "aZWD2008fUoM",
        "colab_type": "code",
        "colab": {}
      },
      "source": [
        "import json\n",
        "import math\n",
        "import numpy as np\n",
        "import matplotlib.pyplot as plt\n",
        "from sklearn.cluster import KMeans\n"
      ],
      "execution_count": 0,
      "outputs": []
    },
    {
      "cell_type": "code",
      "metadata": {
        "id": "nJgKIP1GfUoi",
        "colab_type": "code",
        "colab": {}
      },
      "source": [
        "f = open('dog_coco_v2.json')\n",
        "\n",
        "#open json data as a dictionary\n",
        "data = json.load(f)\n"
      ],
      "execution_count": 0,
      "outputs": []
    },
    {
      "cell_type": "code",
      "metadata": {
        "id": "9gcroxzbfUox",
        "colab_type": "code",
        "colab": {}
      },
      "source": [
        "#step 1: create im_coord dictionary\n",
        "im_coord = {}\n",
        "for i in data['images']:\n",
        "    key = str(i['id'])\n",
        "    im_coord[key] = [i['width'],i['height']]"
      ],
      "execution_count": 0,
      "outputs": []
    },
    {
      "cell_type": "code",
      "metadata": {
        "id": "9fyMTJs3fUo4",
        "colab_type": "code",
        "colab": {},
        "outputId": "58934364-6d5d-47d1-fce8-ca70c0dc2f03"
      },
      "source": [
        "print(im_coord)\n"
      ],
      "execution_count": 0,
      "outputs": [
        {
          "output_type": "stream",
          "text": [
            "{'0': [410, 308], '1': [500, 333], '2': [375, 500], '3': [500, 333], '4': [190, 286], '5': [500, 375], '6': [500, 348], '7': [250, 263], '8': [487, 500], '9': [250, 188], '10': [500, 375], '11': [450, 338], '12': [435, 594], '13': [500, 333], '14': [500, 375], '15': [400, 539], '16': [500, 334], '17': [200, 150], '18': [500, 380], '19': [500, 334], '20': [500, 333], '21': [500, 445], '22': [500, 375], '23': [400, 286], '24': [500, 378], '25': [512, 514], '26': [375, 500], '27': [375, 500], '28': [500, 375], '29': [500, 333], '30': [500, 334], '31': [333, 500], '32': [500, 432], '33': [500, 375], '34': [375, 500], '35': [305, 230], '36': [333, 500], '37': [308, 550], '38': [210, 201], '39': [500, 333], '40': [500, 375], '41': [500, 375], '42': [500, 319], '43': [500, 332], '44': [500, 375], '45': [500, 375], '46': [500, 375], '47': [500, 375], '48': [334, 500], '49': [500, 375]}\n"
          ],
          "name": "stdout"
        }
      ]
    },
    {
      "cell_type": "code",
      "metadata": {
        "id": "iBmS5L3UfUo-",
        "colab_type": "code",
        "colab": {}
      },
      "source": [
        "# step 2: create bbox dictionary\n",
        "bbox_cord = {}\n",
        "for j in data['annotations']:\n",
        "    key = j['image_id']\n",
        "    if key not in bbox_cord:\n",
        "        bbox_cord[key] = [j['bbox'][2], j['bbox'][3]]\n",
        "    else:\n",
        "        bbox_cord[key].append(j['bbox'][2])\n",
        "        bbox_cord[key].append(j['bbox'][3])"
      ],
      "execution_count": 0,
      "outputs": []
    },
    {
      "cell_type": "code",
      "metadata": {
        "id": "SHWqEkeLfUpD",
        "colab_type": "code",
        "colab": {},
        "outputId": "23cf8619-31ca-4dee-e851-4783f08b2080"
      },
      "source": [
        "print()    \n",
        "\n",
        "print(bbox_cord)"
      ],
      "execution_count": 0,
      "outputs": [
        {
          "output_type": "stream",
          "text": [
            "\n",
            "{'0': [295, 227], '1': [192, 244], '2': [312, 320], '3': [323, 380], '4': [257, 222], '5': [241, 203], '6': [160, 226], '7': [173, 188], '8': [363, 230], '10': [366, 242], '11': [245, 176], '12': [382, 305], '13': [314, 274], '14': [143, 359], '15': [154, 184], '16': [166, 313], '17': [193, 156], '18': [401, 156], '19': [160, 102], '20': [340, 292], '21': [461, 308], '22': [461, 274], '23': [432, 427], '24': [377, 329], '25': [279, 220], '26': [243, 225], '27': [474, 442], '28': [340, 447], '29': [271, 404], '30': [338, 336], '31': [357, 283], '32': [330, 188], '33': [291, 403], '34': [301, 180], '35': [436, 306], '36': [337, 226], '37': [228, 176], '38': [218, 379], '39': [222, 419], '40': [172, 179], '41': [361, 286], '42': [363, 307], '43': [208, 204], '44': [441, 244], '45': [402, 267], '46': [337, 334], '47': [394, 301], '48': [296, 288], '49': [344, 308]}\n"
          ],
          "name": "stdout"
        }
      ]
    },
    {
      "cell_type": "code",
      "metadata": {
        "scrolled": true,
        "id": "tIv1hstrfUpH",
        "colab_type": "code",
        "colab": {}
      },
      "source": [
        "# step 3\n",
        "logw = []\n",
        "logh = []\n",
        "for im in im_coord:\n",
        "    if(len(bbox_cord[im]) == 2):\n",
        "        #print(\"Yes\")\n",
        "        logw.append(math.log(bbox_cord[im][0]/im_coord[im][0]))\n",
        "        logh.append(math.log(bbox_cord[im][1])/im_coord[im][1])\n",
        "    if(len(bbox_cord[im]) > 2):\n",
        "        l = 0\n",
        "        while(l < len(bbox_cord[im])):\n",
        "            if(l%2 == 0):\n",
        "                logw.append(math.log(bbox_cord[im][l]/im_coord[im][0]))\n",
        "                logh.append(math.log(bbox_cord[im][l+1]/im_coord[im][1]))\n",
        "                \n",
        "            l+=2"
      ],
      "execution_count": 0,
      "outputs": []
    },
    {
      "cell_type": "code",
      "metadata": {
        "id": "sANiczCYfUpL",
        "colab_type": "code",
        "colab": {},
        "outputId": "2b403996-74a3-4a0b-d2e2-c8df63fcc75c"
      },
      "source": [
        "X = np.column_stack((logw,logh))\n",
        "print(X)"
      ],
      "execution_count": 0,
      "outputs": [
        {
          "output_type": "stream",
          "text": [
            "[[-0.3291818   0.01761347]\n",
            " [-0.95711273 -0.31097426]\n",
            " [-1.27296568 -0.33587182]\n",
            " [-0.1492737   0.01188034]\n",
            " [-0.72981116  0.01595557]\n",
            " [-0.17185026  0.01895292]\n",
            " [-1.0613165   0.01396385]\n",
            " [-0.32020526  0.01562666]\n",
            " [-0.93649344  0.01844878]\n",
            " [-0.28563079  0.01097788]\n",
            " [-0.02020271  0.02750257]\n",
            " [-0.26918749  0.01525416]\n",
            " [-0.3598546   0.01660689]\n",
            " [-1.1125014  -0.50355693]\n",
            " [-0.54591694 -0.24055006]\n",
            " [-1.1776555  -0.59320673]\n",
            " [-1.65025991 -0.02124511]\n",
            " [-1.10262031  0.01532321]\n",
            " [-0.72877436 -1.23985956]\n",
            " [-1.04270466 -0.07911549]\n",
            " [-0.91629073 -0.77628682]\n",
            " [-0.22064667  0.01511933]\n",
            " [-0.22314355  0.03083315]\n",
            " [-0.38566248  0.01493883]\n",
            " [-0.08121006  0.01715599]\n",
            " [-0.08121006  0.01685624]\n",
            " [-0.14618251  0.01361075]\n",
            " [-0.28236291  0.01545615]\n",
            " [-0.36025277  0.01885884]\n",
            " [-0.72154666  0.01432831]\n",
            " [-0.0771173   0.0118508 ]\n",
            " [-0.09798041  0.01220512]\n",
            " [-0.32480721  0.01200283]\n",
            " [-0.3915622   0.0155123 ]\n",
            " [-0.33687232  0.01695329]\n",
            " [-0.41551544  0.01567797]\n",
            " [-0.13481922  0.01199787]\n",
            " [-0.50749783  0.01202073]\n",
            " [-0.13696586  0.01526289]\n",
            " [-0.1068431   0.01084107]\n",
            " [-0.29096615  0.02248037]\n",
            " [-0.42364743  0.01187507]\n",
            " [-0.3274224   0.01097795]\n",
            " [-0.19961305  0.02580789]\n",
            " [-0.32573014  0.01698496]\n",
            " [-0.32020526  0.01527159]\n",
            " [-0.87707002  0.01418165]\n",
            " [-0.12556322  0.0172325 ]\n",
            " [-0.21815601  0.01682906]\n",
            " [-0.39452517  0.01549638]\n",
            " [-0.23825719  0.01521896]\n",
            " [-0.52424864  0.01510123]\n",
            " [-0.37396644  0.01528027]\n",
            " [-0.10403073 -0.70927656]\n",
            " [-0.4784222  -1.30195321]\n",
            " [-0.92130327 -1.10664446]\n",
            " [-1.551169   -0.52424864]\n",
            " [-1.46101791 -0.61372005]\n",
            " [-2.78062089 -0.9852836 ]\n",
            " [-2.17155683 -1.06711362]]\n"
          ],
          "name": "stdout"
        }
      ]
    },
    {
      "cell_type": "code",
      "metadata": {
        "id": "659_34CvfUpS",
        "colab_type": "code",
        "colab": {},
        "outputId": "511d7d42-7040-4db9-fe0b-6ba9cf07ffd0"
      },
      "source": [
        "# step 4\n",
        "plt.scatter(logw,logh)\n",
        "plt.xlabel(\"Normalised bbox width\")\n",
        "plt.ylabel(\"Normalised bbox height\")"
      ],
      "execution_count": 0,
      "outputs": [
        {
          "output_type": "execute_result",
          "data": {
            "text/plain": [
              "Text(0, 0.5, 'Normalised bbox height')"
            ]
          },
          "metadata": {
            "tags": []
          },
          "execution_count": 16
        },
        {
          "output_type": "display_data",
          "data": {
            "image/png": "[encoded data removed]",
            "text/plain": [
              "<Figure size 432x288 with 1 Axes>"
            ]
          },
          "metadata": {
            "tags": [],
            "needs_background": "light"
          }
        }
      ]
    },
    {
      "cell_type": "code",
      "metadata": {
        "id": "jpbYh95NfUpW",
        "colab_type": "code",
        "colab": {},
        "outputId": "ae399aec-0cad-45a1-8c66-c0056230ca89"
      },
      "source": [
        "wcss = []\n",
        "for i in range(1, 11):\n",
        "    kmeans = KMeans(n_clusters=i, init='k-means++', max_iter=300, n_init=10, random_state=0)\n",
        "    kmeans.fit(X)\n",
        "    wcss.append(kmeans.inertia_)\n",
        "plt.plot(range(1, 11), wcss)\n",
        "plt.title('Elbow Method')\n",
        "plt.xlabel('Number of clusters')\n",
        "plt.ylabel('WCSS')\n",
        "plt.show()"
      ],
      "execution_count": 0,
      "outputs": [
        {
          "output_type": "display_data",
          "data": {
            "image/png": "[encoded data removed]",
            "text/plain": [
              "<Figure size 432x288 with 1 Axes>"
            ]
          },
          "metadata": {
            "tags": [],
            "needs_background": "light"
          }
        }
      ]
    },
    {
      "cell_type": "markdown",
      "metadata": {
        "id": "k6jwQtmXfUpc",
        "colab_type": "text"
      },
      "source": [
        "**It seems there is 4 no. of cluster**"
      ]
    },
    {
      "cell_type": "code",
      "metadata": {
        "id": "mXzL1sEUfUpc",
        "colab_type": "code",
        "colab": {},
        "outputId": "ac11b466-19e8-4769-99c2-b3cacb390678"
      },
      "source": [
        "import seaborn as sns\n",
        "\n",
        "kmeans = KMeans(n_clusters=4, init='k-means++', max_iter=300, n_init=10, random_state=0)\n",
        "pred_y = kmeans.fit_predict(X)\n",
        "\n",
        "legend = []\n",
        "for i in np.unique(pred_y):\n",
        "    legend.append('Cluster {0}'.format(i))\n",
        "    \n",
        "    \n",
        "plt.scatter(X[:,0], X[:,1], c=kmeans.fit(X).labels_.astype(float))\n",
        "plt.scatter(kmeans.cluster_centers_[:, 0], kmeans.cluster_centers_[:, 1], s=300, c='red')\n",
        "plt.xlabel(\"Normalised bbox width\")\n",
        "plt.ylabel(\"Normalised bbox height\")\n",
        "plt.title(\"K-Means cluster on anchor box dimensions\")\n",
        "plt.show()"
      ],
      "execution_count": 0,
      "outputs": [
        {
          "output_type": "display_data",
          "data": {
            "image/png": "[encoded data removed]",
            "text/plain": [
              "<Figure size 432x288 with 1 Axes>"
            ]
          },
          "metadata": {
            "tags": [],
            "needs_background": "light"
          }
        }
      ]
    },
    {
      "cell_type": "code",
      "metadata": {
        "id": "0AqgNQ5VfUph",
        "colab_type": "code",
        "colab": {}
      },
      "source": [
        ""
      ],
      "execution_count": 0,
      "outputs": []
    }
  ]
}