{
  "nbformat": 4,
  "nbformat_minor": 0,
  "metadata": {
    "colab": {
      "name": "Assignment-05.ipynb",
      "provenance": [],
      "collapsed_sections": []
    },
    "kernelspec": {
      "name": "python3",
      "display_name": "Python 3"
    },
    "accelerator": "GPU"
  },
  "cells": [
    {
      "cell_type": "code",
      "metadata": {
        "id": "GUjZuSMnEHG_",
        "colab_type": "code",
        "outputId": "00a56690-75f1-482a-b571-87e44c059784",
        "colab": {
          "base_uri": "https://localhost:8080/",
          "height": 64
        }
      },
      "source": [
        "import os\n",
        "os.environ['TF_CPP_MIN_LOG_LEVEL'] = '3'\n",
        "import tensorflow as tf\n",
        "tf.compat.v1.logging.set_verbosity(tf.compat.v1.logging.ERROR)\n",
        "import warnings\n",
        "warnings.filterwarnings('ignore')"
      ],
      "execution_count": 0,
      "outputs": [
        {
          "output_type": "display_data",
          "data": {
            "text/html": [
              "<p style=\"color: red;\">\n",
              "The default version of TensorFlow in Colab will soon switch to TensorFlow 2.x.<br>\n",
              "We recommend you <a href=\"https://www.tensorflow.org/guide/migrate\" target=\"_blank\">upgrade</a> now \n",
              "or ensure your notebook will continue to use TensorFlow 1.x via the <code>%tensorflow_version 1.x</code> magic:\n",
              "<a href=\"https://colab.research.google.com/notebooks/tensorflow_version.ipynb\" target=\"_blank\">more info</a>.</p>\n"
            ],
            "text/plain": [
              "<IPython.core.display.HTML object>"
            ]
          },
          "metadata": {
            "tags": []
          }
        }
      ]
    },
    {
      "cell_type": "code",
      "metadata": {
        "id": "Gyq8CE4ug5BK",
        "colab_type": "code",
        "colab": {}
      },
      "source": [
        "# mount gdrive and unzip data\n",
        "from google.colab import drive\n",
        "drive.mount('/content/gdrive')\n",
        "!unzip -q \"/content/gdrive/My Drive/hvc_data.zip\"\n",
        "# look for `hvc_annotations.csv` file and `resized` dir\n",
        "%ls "
      ],
      "execution_count": 0,
      "outputs": []
    },
    {
      "cell_type": "code",
      "metadata": {
        "id": "bYbNQzK6kj94",
        "colab_type": "code",
        "outputId": "90829f53-4fb9-4dcc-98f4-837782c74073",
        "colab": {
          "base_uri": "https://localhost:8080/",
          "height": 34
        }
      },
      "source": [
        "%tensorflow_version 1.x\n",
        "\n",
        "import cv2\n",
        "import json\n",
        "import keras\n",
        "import numpy as np\n",
        "import pandas as pd\n",
        "\n",
        "from functools import partial\n",
        "from pathlib import Path \n",
        "\n",
        "\n",
        "#from google.colab.patches import cv2_imshow\n",
        "\n",
        "from sklearn.model_selection import train_test_split\n",
        "from sklearn.preprocessing import LabelEncoder, OneHotEncoder\n",
        "\n",
        "\n",
        "\n",
        "from keras.layers import Input\n",
        "from keras.models import Model\n",
        "from keras.optimizers import SGD, Adam\n",
        "from keras.preprocessing.image import ImageDataGenerator\n",
        "\n",
        "from keras import backend as K\n",
        "import matplotlib.pyplot as plt\n",
        "from keras.models import Sequential\n",
        "from keras.layers.convolutional import Convolution2D, MaxPooling2D, SeparableConvolution2D, SeparableConv2D\n",
        "from keras.layers import Activation, Flatten, Dense, Dropout, GlobalAveragePooling2D\n",
        "from keras.layers.normalization import BatchNormalization\n",
        "from keras.utils import np_utils\n",
        "from keras.utils.vis_utils import plot_model"
      ],
      "execution_count": 0,
      "outputs": [
        {
          "output_type": "stream",
          "text": [
            "Using TensorFlow backend.\n"
          ],
          "name": "stderr"
        }
      ]
    },
    {
      "cell_type": "code",
      "metadata": {
        "id": "vQkbSpLK4sTP",
        "colab_type": "code",
        "outputId": "e2eb88d1-abee-42b2-c135-d968f8daa040",
        "colab": {
          "base_uri": "https://localhost:8080/",
          "height": 206
        }
      },
      "source": [
        "# load annotations\n",
        "df = pd.read_csv(\"hvc_annotations.csv\")\n",
        "del df[\"filename\"] # remove unwanted column\n",
        "df.head()"
      ],
      "execution_count": 0,
      "outputs": [
        {
          "output_type": "execute_result",
          "data": {
            "text/html": [
              "<div>\n",
              "<style scoped>\n",
              "    .dataframe tbody tr th:only-of-type {\n",
              "        vertical-align: middle;\n",
              "    }\n",
              "\n",
              "    .dataframe tbody tr th {\n",
              "        vertical-align: top;\n",
              "    }\n",
              "\n",
              "    .dataframe thead th {\n",
              "        text-align: right;\n",
              "    }\n",
              "</style>\n",
              "<table border=\"1\" class=\"dataframe\">\n",
              "  <thead>\n",
              "    <tr style=\"text-align: right;\">\n",
              "      <th></th>\n",
              "      <th>gender</th>\n",
              "      <th>imagequality</th>\n",
              "      <th>age</th>\n",
              "      <th>weight</th>\n",
              "      <th>carryingbag</th>\n",
              "      <th>footwear</th>\n",
              "      <th>emotion</th>\n",
              "      <th>bodypose</th>\n",
              "      <th>image_path</th>\n",
              "    </tr>\n",
              "  </thead>\n",
              "  <tbody>\n",
              "    <tr>\n",
              "      <th>0</th>\n",
              "      <td>male</td>\n",
              "      <td>Average</td>\n",
              "      <td>35-45</td>\n",
              "      <td>normal-healthy</td>\n",
              "      <td>Grocery/Home/Plastic Bag</td>\n",
              "      <td>Normal</td>\n",
              "      <td>Neutral</td>\n",
              "      <td>Front-Frontish</td>\n",
              "      <td>resized/1.jpg</td>\n",
              "    </tr>\n",
              "    <tr>\n",
              "      <th>1</th>\n",
              "      <td>female</td>\n",
              "      <td>Average</td>\n",
              "      <td>35-45</td>\n",
              "      <td>over-weight</td>\n",
              "      <td>None</td>\n",
              "      <td>Normal</td>\n",
              "      <td>Angry/Serious</td>\n",
              "      <td>Front-Frontish</td>\n",
              "      <td>resized/2.jpg</td>\n",
              "    </tr>\n",
              "    <tr>\n",
              "      <th>2</th>\n",
              "      <td>male</td>\n",
              "      <td>Good</td>\n",
              "      <td>45-55</td>\n",
              "      <td>normal-healthy</td>\n",
              "      <td>Grocery/Home/Plastic Bag</td>\n",
              "      <td>CantSee</td>\n",
              "      <td>Neutral</td>\n",
              "      <td>Front-Frontish</td>\n",
              "      <td>resized/3.jpg</td>\n",
              "    </tr>\n",
              "    <tr>\n",
              "      <th>3</th>\n",
              "      <td>male</td>\n",
              "      <td>Good</td>\n",
              "      <td>45-55</td>\n",
              "      <td>normal-healthy</td>\n",
              "      <td>Daily/Office/Work Bag</td>\n",
              "      <td>Normal</td>\n",
              "      <td>Neutral</td>\n",
              "      <td>Front-Frontish</td>\n",
              "      <td>resized/4.jpg</td>\n",
              "    </tr>\n",
              "    <tr>\n",
              "      <th>4</th>\n",
              "      <td>female</td>\n",
              "      <td>Good</td>\n",
              "      <td>35-45</td>\n",
              "      <td>slightly-overweight</td>\n",
              "      <td>None</td>\n",
              "      <td>CantSee</td>\n",
              "      <td>Neutral</td>\n",
              "      <td>Front-Frontish</td>\n",
              "      <td>resized/5.jpg</td>\n",
              "    </tr>\n",
              "  </tbody>\n",
              "</table>\n",
              "</div>"
            ],
            "text/plain": [
              "   gender imagequality    age  ...        emotion        bodypose     image_path\n",
              "0    male      Average  35-45  ...        Neutral  Front-Frontish  resized/1.jpg\n",
              "1  female      Average  35-45  ...  Angry/Serious  Front-Frontish  resized/2.jpg\n",
              "2    male         Good  45-55  ...        Neutral  Front-Frontish  resized/3.jpg\n",
              "3    male         Good  45-55  ...        Neutral  Front-Frontish  resized/4.jpg\n",
              "4  female         Good  35-45  ...        Neutral  Front-Frontish  resized/5.jpg\n",
              "\n",
              "[5 rows x 9 columns]"
            ]
          },
          "metadata": {
            "tags": []
          },
          "execution_count": 4
        }
      ]
    },
    {
      "cell_type": "code",
      "metadata": {
        "id": "202OJva345WA",
        "colab_type": "code",
        "colab": {}
      },
      "source": [
        "# one hot encoding of labels\n",
        "\n",
        "one_hot_df = pd.concat([\n",
        "    df[[\"image_path\"]],\n",
        "    pd.get_dummies(df.gender, prefix=\"gender\"),\n",
        "    pd.get_dummies(df.imagequality, prefix=\"imagequality\"),\n",
        "    pd.get_dummies(df.age, prefix=\"age\"),\n",
        "    pd.get_dummies(df.weight, prefix=\"weight\"),\n",
        "    pd.get_dummies(df.carryingbag, prefix=\"carryingbag\"),\n",
        "    pd.get_dummies(df.footwear, prefix=\"footwear\"),\n",
        "    pd.get_dummies(df.emotion, prefix=\"emotion\"),\n",
        "    pd.get_dummies(df.bodypose, prefix=\"bodypose\"),\n",
        "], axis = 1)\n",
        "\n",
        "one_hot_df.head().T"
      ],
      "execution_count": 0,
      "outputs": []
    },
    {
      "cell_type": "code",
      "metadata": {
        "id": "0ll94zTv6w5i",
        "colab_type": "code",
        "colab": {}
      },
      "source": [
        "import keras\n",
        "import numpy as np\n",
        "\n",
        "# Label columns per attribute\n",
        "_gender_cols_ = [col for col in one_hot_df.columns if col.startswith(\"gender\")]\n",
        "_imagequality_cols_ = [col for col in one_hot_df.columns if col.startswith(\"imagequality\")]\n",
        "_age_cols_ = [col for col in one_hot_df.columns if col.startswith(\"age\")]\n",
        "_weight_cols_ = [col for col in one_hot_df.columns if col.startswith(\"weight\")]\n",
        "_carryingbag_cols_ = [col for col in one_hot_df.columns if col.startswith(\"carryingbag\")]\n",
        "_footwear_cols_ = [col for col in one_hot_df.columns if col.startswith(\"footwear\")]\n",
        "_emotion_cols_ = [col for col in one_hot_df.columns if col.startswith(\"emotion\")]\n",
        "_bodypose_cols_ = [col for col in one_hot_df.columns if col.startswith(\"bodypose\")]\n",
        "\n",
        "class PersonDataGenerator(keras.utils.Sequence):\n",
        "    \"\"\"Ground truth data generator\"\"\"\n",
        "\n",
        "    \n",
        "    def __init__(self, df, batch_size=32, shuffle=True, augmentation = None):\n",
        "        self.df = df\n",
        "        self.batch_size=batch_size\n",
        "        self.shuffle = shuffle\n",
        "        self.on_epoch_end()\n",
        "        self.augmentation = augmentation\n",
        "\n",
        "    def __len__(self):\n",
        "        return int(np.floor(self.df.shape[0] / self.batch_size))\n",
        "\n",
        "    def __getitem__(self, index):\n",
        "        \"\"\"fetch batched images and targets\"\"\"\n",
        "        batch_slice = slice(index * self.batch_size, (index + 1) * self.batch_size)\n",
        "        items = self.df.iloc[batch_slice]\n",
        "        images = np.stack([cv2.imread(item[\"image_path\"]) for _, item in items.iterrows()])\n",
        "        if self.augmentation is not None:\n",
        "            self.augmentation.fit(images)\n",
        "\n",
        "            images = self.augmentation.flow(images, shuffle=False).next()\n",
        "\n",
        "        target = {\n",
        "            \"gender_output\": items[_gender_cols_].values,\n",
        "            \"image_quality_output\": items[_imagequality_cols_].values,\n",
        "            \"age_output\": items[_age_cols_].values,\n",
        "            \"weight_output\": items[_weight_cols_].values,\n",
        "            \"bag_output\": items[_carryingbag_cols_].values,\n",
        "            \"pose_output\": items[_bodypose_cols_].values,\n",
        "            \"footwear_output\": items[_footwear_cols_].values,\n",
        "            \"emotion_output\": items[_emotion_cols_].values,\n",
        "        }\n",
        "        return images, target\n",
        "\n",
        "    def on_epoch_end(self):\n",
        "        \"\"\"Updates indexes after each epoch\"\"\"\n",
        "        if self.shuffle == True:\n",
        "            self.df = self.df.sample(frac=1).reset_index(drop=True)\n"
      ],
      "execution_count": 0,
      "outputs": []
    },
    {
      "cell_type": "code",
      "metadata": {
        "id": "yVE8-OaZ8J5q",
        "colab_type": "code",
        "outputId": "5953fb2e-7ce0-415b-bad2-adca7b63fc5e",
        "colab": {
          "base_uri": "https://localhost:8080/",
          "height": 34
        }
      },
      "source": [
        "from sklearn.model_selection import train_test_split\n",
        "train_df, val_df = train_test_split(one_hot_df, test_size=0.15, random_state=42)\n",
        "train_df.shape, val_df.shape"
      ],
      "execution_count": 0,
      "outputs": [
        {
          "output_type": "execute_result",
          "data": {
            "text/plain": [
              "((11537, 28), (2036, 28))"
            ]
          },
          "metadata": {
            "tags": []
          },
          "execution_count": 7
        }
      ]
    },
    {
      "cell_type": "code",
      "metadata": {
        "id": "K5m15DLyF2ot",
        "colab_type": "code",
        "colab": {}
      },
      "source": [
        "train_df.head()"
      ],
      "execution_count": 0,
      "outputs": []
    },
    {
      "cell_type": "code",
      "metadata": {
        "id": "dR7rnroJTT3F",
        "colab_type": "code",
        "outputId": "cb047cda-4a8b-406f-e1e1-f5dd2fc691a0",
        "colab": {
          "base_uri": "https://localhost:8080/",
          "height": 156
        }
      },
      "source": [
        "!git clone https://github.com/yu4u/cutout-random-erasing.git\n",
        "!ls -ltr\n",
        "!pwd"
      ],
      "execution_count": 0,
      "outputs": [
        {
          "output_type": "stream",
          "text": [
            "fatal: destination path 'cutout-random-erasing' already exists and is not an empty directory.\n",
            "total 1844\n",
            "drwxr-xr-x 2 root root  299008 Dec 13 09:53 resized\n",
            "-rw-r--r-- 1 root root 1576476 Dec 13 09:58 hvc_annotations.csv\n",
            "drwxr-xr-x 1 root root    4096 Dec 18 16:52 sample_data\n",
            "drwx------ 4 root root    4096 Dec 28 09:49 gdrive\n",
            "drwxr-xr-x 4 root root    4096 Dec 28 09:50 cutout-random-erasing\n",
            "/content\n"
          ],
          "name": "stdout"
        }
      ]
    },
    {
      "cell_type": "code",
      "metadata": {
        "id": "8unnVP9vTWxg",
        "colab_type": "code",
        "colab": {}
      },
      "source": [
        "import os\n",
        "os.chdir('/content/cutout-random-erasing')\n",
        "from random_eraser import get_random_eraser\n",
        "os.chdir('/content')"
      ],
      "execution_count": 0,
      "outputs": []
    },
    {
      "cell_type": "code",
      "metadata": {
        "id": "yIp8vLtVvD1k",
        "colab_type": "code",
        "colab": {}
      },
      "source": [
        "\n",
        "train_gen = PersonDataGenerator(\n",
        "    train_df, \n",
        "    batch_size=32, \n",
        "    #augmentation = None\n",
        "    augmentation=ImageDataGenerator(\n",
        "        rescale = 1.0 / 255.0,\n",
        "        preprocessing_function=get_random_eraser(p=0.9, s_l=0.04, s_h=0.2, r_1=0.5, r_2=1/0.3,\n",
        "                  v_l=0, v_h=255, pixel_level=False)\n",
        "    )\n",
        "\n",
        ")\n"
      ],
      "execution_count": 0,
      "outputs": []
    },
    {
      "cell_type": "code",
      "metadata": {
        "id": "o7RitJpnF-jS",
        "colab_type": "code",
        "colab": {}
      },
      "source": [
        "valid_gen = PersonDataGenerator(\n",
        "    val_df, \n",
        "    batch_size=32, \n",
        "    shuffle=False,\n",
        "    augmentation=ImageDataGenerator(\n",
        "        rescale = 1.0/ 255.0 ) \n",
        ")"
      ],
      "execution_count": 0,
      "outputs": []
    },
    {
      "cell_type": "code",
      "metadata": {
        "id": "2pMDGat-Ghow",
        "colab_type": "code",
        "outputId": "d9ccb564-4bec-4e56-a423-72fb170cc7dc",
        "colab": {
          "base_uri": "https://localhost:8080/",
          "height": 156
        }
      },
      "source": [
        "# get number of output units from data\n",
        "images, targets = next(iter(train_gen))\n",
        "num_units = { k.split(\"_output\")[0]:v.shape[1] for k, v in targets.items()}\n",
        "num_units"
      ],
      "execution_count": 0,
      "outputs": [
        {
          "output_type": "execute_result",
          "data": {
            "text/plain": [
              "{'age': 5,\n",
              " 'bag': 3,\n",
              " 'emotion': 4,\n",
              " 'footwear': 3,\n",
              " 'gender': 2,\n",
              " 'image_quality': 3,\n",
              " 'pose': 3,\n",
              " 'weight': 4}"
            ]
          },
          "metadata": {
            "tags": []
          },
          "execution_count": 10
        }
      ]
    },
    {
      "cell_type": "code",
      "metadata": {
        "id": "Dj8N4pPCoZrt",
        "colab_type": "code",
        "colab": {}
      },
      "source": [
        "import time, math\n",
        "\n",
        "\n",
        "def init_pytorch(shape, dtype=tf.float32, partition_info=None):\n",
        "  fan = np.prod(shape[:-1])\n",
        "  bound = 1 / math.sqrt(fan)\n",
        "  return tf.random.uniform(shape, minval=-bound, maxval=bound, dtype=dtype)"
      ],
      "execution_count": 0,
      "outputs": []
    },
    {
      "cell_type": "code",
      "metadata": {
        "id": "4sF-U6TrKEcf",
        "colab_type": "code",
        "colab": {}
      },
      "source": [
        "def Erato_Model(weights=None):\n",
        "    model = Sequential()\n",
        "\n",
        "    p = 0.3\n",
        "\n",
        "    init = 'he_uniform'\n",
        "\n",
        "    model.add(SeparableConv2D(64, 3, 3, activation= 'relu', border_mode='same',depthwise_initializer =init, input_shape=(224, 224, 3))) \n",
        "    model.add(BatchNormalization())\n",
        "    model.add(Dropout(p))\n",
        "\n",
        "\n",
        "    model.add(SeparableConv2D(64, 3, 3, depthwise_initializer =init, border_mode='same', activation= 'relu')) \n",
        "    model.add(BatchNormalization())\n",
        "    model.add(Dropout(p))\n",
        "\n",
        "   \n",
        "\n",
        "\n",
        "    model.add(MaxPooling2D(pool_size=(2, 2)))\n",
        "    model.add(Dropout(p))\n",
        "\n",
        "    model.add(SeparableConv2D(128, 3, 3, depthwise_initializer =init, border_mode='same', activation= 'relu')) #out: 15*15*96 and R:10\n",
        "    model.add(BatchNormalization())\n",
        "    model.add(Dropout(p))\n",
        "\n",
        "\n",
        "    model.add(SeparableConv2D(128, 3, 3, depthwise_initializer =init, border_mode='same',activation= 'relu')) #13*13*96 and R:14\n",
        "    model.add(BatchNormalization())\n",
        "    model.add(Dropout(p))\n",
        "\n",
        "    \n",
        "\n",
        "\n",
        "    model.add(MaxPooling2D(pool_size=(2, 2))) # out: 6*6*96 and R:16\n",
        "    model.add(Dropout(p))\n",
        "\n",
        "    model.add(SeparableConv2D(256, 3, 3, depthwise_initializer =init, border_mode='same', activation= 'relu')) #out: 15*15*96 and R:10\n",
        "    model.add(BatchNormalization())\n",
        "    model.add(Dropout(p))\n",
        "\n",
        "\n",
        "    model.add(SeparableConv2D(256, 3, 3, depthwise_initializer =init, border_mode='same',activation= 'relu')) #13*13*96 and R:14\n",
        "    model.add(BatchNormalization())\n",
        "    model.add(Dropout(p))\n",
        "\n",
        "\n",
        "    model.add(MaxPooling2D(pool_size=(2, 2))) # out: 6*6*96 and R:16\n",
        "    model.add(Dropout(p))\n",
        "\n",
        "    model.add(SeparableConv2D(512, 3, 3, depthwise_initializer =init, border_mode='same', activation= 'relu')) #out: 15*15*96 and R:10\n",
        "    model.add(BatchNormalization())\n",
        "    model.add(Dropout(p))\n",
        "\n",
        "\n",
        "    model.add(SeparableConv2D(512, 3, 3, depthwise_initializer =init, border_mode='same',activation= 'relu')) #13*13*96 and R:14\n",
        "    model.add(BatchNormalization())\n",
        "    model.add(Dropout(p))\n",
        "\n",
        "    model.add(SeparableConv2D(512, 3, 3, depthwise_initializer =init, border_mode='same', activation= 'relu')) #out: 15*15*96 and R:10\n",
        "    model.add(BatchNormalization())\n",
        "    model.add(Dropout(p))\n",
        "\n",
        "    model.add(MaxPooling2D(pool_size=(2, 2))) # out: 6*6*96 and R:16\n",
        "    model.add(Dropout(p))\n",
        "\n",
        "    model.add(SeparableConv2D(512, 3, 3, depthwise_initializer =init, border_mode='same', activation= 'relu')) #out: 15*15*96 and R:10\n",
        "    model.add(BatchNormalization())\n",
        "    model.add(Dropout(p))\n",
        "\n",
        "\n",
        "    model.add(SeparableConv2D(512, 3, 3, depthwise_initializer =init, border_mode='same',activation= 'relu')) #13*13*96 and R:14\n",
        "    model.add(BatchNormalization())\n",
        "    model.add(Dropout(p))\n",
        "\n",
        "    model.add(SeparableConv2D(512, 3, 3, depthwise_initializer =init, border_mode='same', activation= 'relu')) #out: 15*15*96 and R:10\n",
        "    model.add(BatchNormalization())\n",
        "    model.add(Dropout(p))\n",
        "\n",
        "    model.add(MaxPooling2D(pool_size=(2, 2))) # out: 6*6*96 and R:16\n",
        "    model.add(Dropout(p))\n",
        "\n",
        "    model.add(SeparableConv2D(512, 3,3, depthwise_initializer=\"he_uniform\", activation='relu'))\n",
        "    model.add(BatchNormalization())\n",
        "    model.add(Dropout(p))\n",
        "\n",
        "    model.add(SeparableConv2D(512, 3,3, depthwise_initializer=\"he_uniform\", activation='relu'))\n",
        "    model.add(BatchNormalization())\n",
        "    model.add(Dropout(p))\n",
        "\n",
        "    model.add(SeparableConv2D(512, 3,3, depthwise_initializer=\"he_uniform\", activation='relu'))\n",
        "    model.add(BatchNormalization())\n",
        "    model.add(Dropout(p))\n",
        "\n",
        "\n",
        "    \n",
        "    if weights:\n",
        "        model.load_weights(weights_path)\n",
        "\n",
        "    return model"
      ],
      "execution_count": 0,
      "outputs": []
    },
    {
      "cell_type": "code",
      "metadata": {
        "id": "umUbtoUEoo4X",
        "colab_type": "code",
        "colab": {}
      },
      "source": [
        "backbone = Erato_Model(weights=None)\n",
        "\n",
        "\n",
        "neck = backbone.output\n",
        "neck = Flatten(name=\"flatten\")(neck)\n",
        "neck = Dense(512, activation=\"relu\")(neck)\n",
        "\n",
        "\n",
        "def build_tower(in_layer):\n",
        "    neck = Dropout(0.2)(in_layer)\n",
        "    neck = Dense(128, activation=\"relu\")(neck)\n",
        "    neck = Dropout(0.3)(neck)\n",
        "    neck = Dense(128)(neck)\n",
        "    return neck\n",
        "\n",
        "\n",
        "def build_head(name, in_layer):\n",
        "    return Dense(\n",
        "        num_units[name], activation=\"sigmoid\", name=f\"{name}_output\"\n",
        "    )(in_layer)\n",
        "\n",
        "# heads\n",
        "gender = build_head(\"gender\", build_tower(neck))\n",
        "image_quality = build_head(\"image_quality\", build_tower(neck))\n",
        "age = build_head(\"age\", build_tower(neck))\n",
        "weight = build_head(\"weight\", build_tower(neck))\n",
        "bag = build_head(\"bag\", build_tower(neck))\n",
        "footwear = build_head(\"footwear\", build_tower(neck))\n",
        "emotion = build_head(\"emotion\", build_tower(neck))\n",
        "pose = build_head(\"pose\", build_tower(neck))\n",
        "\n",
        "\n",
        "model = Model(inputs=backbone.input, outputs=[gender, image_quality, age, weight, bag, footwear, pose, emotion])"
      ],
      "execution_count": 0,
      "outputs": []
    },
    {
      "cell_type": "code",
      "metadata": {
        "id": "k9qdGeH9wJVn",
        "colab_type": "code",
        "colab": {}
      },
      "source": [
        "#plot_model(model, to_file='model_plot.png')#, show_shapes=True, show_layer_names=True)\n",
        "#model.load_weights(\"/content/gdrive/My Drive/SavedModels/checkpoints/PARALLEL_MODEL_val_loss:4.229.hdf5\")"
      ],
      "execution_count": 0,
      "outputs": []
    },
    {
      "cell_type": "code",
      "metadata": {
        "id": "EYfdcXKgobNq",
        "colab_type": "code",
        "colab": {}
      },
      "source": [
        "model.summary()"
      ],
      "execution_count": 0,
      "outputs": []
    },
    {
      "cell_type": "code",
      "metadata": {
        "id": "iifhdJ0Y4Xf7",
        "colab_type": "code",
        "colab": {}
      },
      "source": [
        "from keras.callbacks import LearningRateScheduler\n",
        "def scheduler(epoch, lr):\n",
        "  return round(0.003 * 1/(1 + 0.319 * epoch), 10)"
      ],
      "execution_count": 0,
      "outputs": []
    },
    {
      "cell_type": "code",
      "metadata": {
        "id": "RfPG9C2eA1zn",
        "colab_type": "code",
        "colab": {}
      },
      "source": [
        "opt = Adam()\n",
        "model.compile(\n",
        "    optimizer=opt,\n",
        "    loss = \"binary_crossentropy\", \n",
        "    # loss_weights=loss_weights, \n",
        "    metrics=[\"accuracy\"]\n",
        "\n",
        ")"
      ],
      "execution_count": 0,
      "outputs": []
    },
    {
      "cell_type": "code",
      "metadata": {
        "id": "zw2ZRIQ7BW-Q",
        "colab_type": "code",
        "colab": {}
      },
      "source": [
        "# model.fit(X_train, y_train, validation_data=(X_valid, y_valid), batch_size=32, epochs=10)"
      ],
      "execution_count": 0,
      "outputs": []
    },
    {
      "cell_type": "code",
      "metadata": {
        "id": "ESasrkva9TRI",
        "colab_type": "code",
        "colab": {}
      },
      "source": [
        "from keras.callbacks import ModelCheckpoint, ReduceLROnPlateau, EarlyStopping\n",
        "\n",
        "learning_rate_reduction = ReduceLROnPlateau(monitor='val_loss',\n",
        "\t\t                                            patience=5,\n",
        "\t\t                                            verbose=1,\n",
        "\t\t                                            factor=0.5,\n",
        "\t\t\t\t\t\t\t\t\t\t\t\t\t\t\t\t\t\t\t\t\t\t\t\t\n",
        "\t\t                                            min_lr=0)\n",
        "\n",
        "# stop training if no improvements are seen\n",
        "early_stop = EarlyStopping(monitor=\"val_loss\",\n",
        "\t\t                           mode=\"min\",\n",
        "\t\t                           patience=20)\n",
        "\n",
        "filepath=\"/content/gdrive/My Drive/SavedModels/checkpoints/parallel_mod_epochs:{epoch:03d}-val_loss:{val_loss:.3f}.hdf5\"\n",
        "\n",
        "# saves model weights to file\n",
        "checkpoint = ModelCheckpoint(filepath,\n",
        "\t\t                             monitor='val_loss',\n",
        "\t\t                             verbose=1,\n",
        "\t\t                             save_best_only=True,\n",
        "\t\t                             mode='min',\n",
        "\t\t                             save_weights_only=False) "
      ],
      "execution_count": 0,
      "outputs": []
    },
    {
      "cell_type": "code",
      "metadata": {
        "id": "rpxv41EyNmN4",
        "colab_type": "code",
        "outputId": "4cc3694e-b5f2-45e0-c6df-74a927767df3",
        "colab": {
          "base_uri": "https://localhost:8080/",
          "height": 1000
        }
      },
      "source": [
        "model.fit_generator(\n",
        "    generator=train_gen,\n",
        "    validation_data=valid_gen,\n",
        "    use_multiprocessing=True,\n",
        "    workers=6, \n",
        "    epochs=50,\n",
        "    callbacks=[learning_rate_reduction, early_stop, checkpoint],#LearningRateScheduler(scheduler, verbose=1),\n",
        "    verbose=2\n",
        ")"
      ],
      "execution_count": 0,
      "outputs": [
        {
          "output_type": "stream",
          "text": [
            "Epoch 1/50\n",
            " - 274s - loss: 4.3376 - gender_output_loss: 0.6953 - image_quality_output_loss: 0.5857 - age_output_loss: 0.4716 - weight_output_loss: 0.4407 - bag_output_loss: 0.5637 - footwear_output_loss: 0.6135 - pose_output_loss: 0.5619 - emotion_output_loss: 0.4053 - gender_output_acc: 0.5478 - image_quality_output_acc: 0.6919 - age_output_acc: 0.7950 - weight_output_acc: 0.8118 - bag_output_acc: 0.6994 - footwear_output_acc: 0.6632 - pose_output_acc: 0.7395 - emotion_output_acc: 0.8532 - val_loss: 4.7531 - val_gender_output_loss: 0.7088 - val_image_quality_output_loss: 0.6023 - val_age_output_loss: 0.5116 - val_weight_output_loss: 0.5023 - val_bag_output_loss: 0.5533 - val_footwear_output_loss: 0.6507 - val_pose_output_loss: 0.5896 - val_emotion_output_loss: 0.6345 - val_gender_output_acc: 0.4477 - val_image_quality_output_acc: 0.7103 - val_age_output_acc: 0.8000 - val_weight_output_acc: 0.8232 - val_bag_output_acc: 0.6706 - val_footwear_output_acc: 0.6215 - val_pose_output_acc: 0.7457 - val_emotion_output_acc: 0.8534\n",
            "\n",
            "Epoch 00001: val_loss improved from inf to 4.75313, saving model to /content/gdrive/My Drive/SavedModels/checkpoints/parallel_mod_epochs:001-val_loss:4.753.hdf5\n",
            "Epoch 2/50\n",
            " - 263s - loss: 4.2380 - gender_output_loss: 0.6844 - image_quality_output_loss: 0.5737 - age_output_loss: 0.4633 - weight_output_loss: 0.4318 - bag_output_loss: 0.5548 - footwear_output_loss: 0.5838 - pose_output_loss: 0.5523 - emotion_output_loss: 0.3940 - gender_output_acc: 0.5628 - image_quality_output_acc: 0.6945 - age_output_acc: 0.7983 - weight_output_acc: 0.8164 - bag_output_acc: 0.7054 - footwear_output_acc: 0.6885 - pose_output_acc: 0.7439 - emotion_output_acc: 0.8562 - val_loss: 4.2963 - val_gender_output_loss: 0.6874 - val_image_quality_output_loss: 0.6058 - val_age_output_loss: 0.4605 - val_weight_output_loss: 0.4265 - val_bag_output_loss: 0.5525 - val_footwear_output_loss: 0.6157 - val_pose_output_loss: 0.5494 - val_emotion_output_loss: 0.3984 - val_gender_output_acc: 0.5516 - val_image_quality_output_acc: 0.7103 - val_age_output_acc: 0.8000 - val_weight_output_acc: 0.8232 - val_bag_output_acc: 0.7037 - val_footwear_output_acc: 0.6665 - val_pose_output_acc: 0.7457 - val_emotion_output_acc: 0.8534\n",
            "\n",
            "Epoch 00002: val_loss improved from 4.75313 to 4.29626, saving model to /content/gdrive/My Drive/SavedModels/checkpoints/parallel_mod_epochs:002-val_loss:4.296.hdf5\n",
            "Epoch 3/50\n",
            "\n",
            " - 263s - loss: 4.1898 - gender_output_loss: 0.6794 - image_quality_output_loss: 0.5677 - age_output_loss: 0.4585 - weight_output_loss: 0.4261 - bag_output_loss: 0.5504 - footwear_output_loss: 0.5709 - pose_output_loss: 0.5476 - emotion_output_loss: 0.3893 - gender_output_acc: 0.5709 - image_quality_output_acc: 0.6991 - age_output_acc: 0.7994 - weight_output_acc: 0.8166 - bag_output_acc: 0.7082 - footwear_output_acc: 0.6993 - pose_output_acc: 0.7442 - emotion_output_acc: 0.8564 - val_loss: 4.7559 - val_gender_output_loss: 0.6874 - val_image_quality_output_loss: 0.5853 - val_age_output_loss: 0.4565 - val_weight_output_loss: 0.4200 - val_bag_output_loss: 0.5513 - val_footwear_output_loss: 1.1122 - val_pose_output_loss: 0.5521 - val_emotion_output_loss: 0.3910 - val_gender_output_acc: 0.5516 - val_image_quality_output_acc: 0.7110 - val_age_output_acc: 0.8000 - val_weight_output_acc: 0.8232 - val_bag_output_acc: 0.7037 - val_footwear_output_acc: 0.5871 - val_pose_output_acc: 0.7457 - val_emotion_output_acc: 0.8534\n",
            "\n",
            "Epoch 00003: val_loss did not improve from 4.29626\n",
            "Epoch 4/50\n",
            " - 263s - loss: 4.1369 - gender_output_loss: 0.6578 - image_quality_output_loss: 0.5665 - age_output_loss: 0.4546 - weight_output_loss: 0.4221 - bag_output_loss: 0.5468 - footwear_output_loss: 0.5574 - pose_output_loss: 0.5456 - emotion_output_loss: 0.3862 - gender_output_acc: 0.5885 - image_quality_output_acc: 0.7001 - age_output_acc: 0.7998 - weight_output_acc: 0.8167 - bag_output_acc: 0.7090 - footwear_output_acc: 0.7151 - pose_output_acc: 0.7446 - emotion_output_acc: 0.8564 - val_loss: 4.4696 - val_gender_output_loss: 0.6983 - val_image_quality_output_loss: 0.5764 - val_age_output_loss: 0.4597 - val_weight_output_loss: 0.4187 - val_bag_output_loss: 0.5481 - val_footwear_output_loss: 0.8273 - val_pose_output_loss: 0.5496 - val_emotion_output_loss: 0.3914 - val_gender_output_acc: 0.5513 - val_image_quality_output_acc: 0.7110 - val_age_output_acc: 0.8000 - val_weight_output_acc: 0.8232 - val_bag_output_acc: 0.7035 - val_footwear_output_acc: 0.5893 - val_pose_output_acc: 0.7457 - val_emotion_output_acc: 0.8534\n",
            "\n",
            "Epoch 00004: val_loss did not improve from 4.29626\n",
            "Epoch 5/50\n",
            " - 263s - loss: 4.1022 - gender_output_loss: 0.6467 - image_quality_output_loss: 0.5626 - age_output_loss: 0.4526 - weight_output_loss: 0.4200 - bag_output_loss: 0.5465 - footwear_output_loss: 0.5459 - pose_output_loss: 0.5448 - emotion_output_loss: 0.3832 - gender_output_acc: 0.6129 - image_quality_output_acc: 0.6993 - age_output_acc: 0.7996 - weight_output_acc: 0.8167 - bag_output_acc: 0.7093 - footwear_output_acc: 0.7233 - pose_output_acc: 0.7445 - emotion_output_acc: 0.8563 - val_loss: 4.3587 - val_gender_output_loss: 0.6810 - val_image_quality_output_loss: 0.7126 - val_age_output_loss: 0.4542 - val_weight_output_loss: 0.4171 - val_bag_output_loss: 0.5490 - val_footwear_output_loss: 0.5981 - val_pose_output_loss: 0.5469 - val_emotion_output_loss: 0.3999 - val_gender_output_acc: 0.5843 - val_image_quality_output_acc: 0.5908 - val_age_output_acc: 0.8000 - val_weight_output_acc: 0.8232 - val_bag_output_acc: 0.7037 - val_footwear_output_acc: 0.6739 - val_pose_output_acc: 0.7457 - val_emotion_output_acc: 0.8534\n",
            "\n",
            "Epoch 00005: val_loss did not improve from 4.29626\n",
            "Epoch 6/50\n",
            " - 263s - loss: 4.0722 - gender_output_loss: 0.6284 - image_quality_output_loss: 0.5621 - age_output_loss: 0.4529 - weight_output_loss: 0.4201 - bag_output_loss: 0.5457 - footwear_output_loss: 0.5345 - pose_output_loss: 0.5449 - emotion_output_loss: 0.3835 - gender_output_acc: 0.6442 - image_quality_output_acc: 0.6987 - age_output_acc: 0.7992 - weight_output_acc: 0.8165 - bag_output_acc: 0.7093 - footwear_output_acc: 0.7350 - pose_output_acc: 0.7444 - emotion_output_acc: 0.8564 - val_loss: 4.8816 - val_gender_output_loss: 0.8826 - val_image_quality_output_loss: 0.5943 - val_age_output_loss: 0.4546 - val_weight_output_loss: 0.4185 - val_bag_output_loss: 0.6267 - val_footwear_output_loss: 0.9479 - val_pose_output_loss: 0.5690 - val_emotion_output_loss: 0.3882 - val_gender_output_acc: 0.5516 - val_image_quality_output_acc: 0.6941 - val_age_output_acc: 0.8000 - val_weight_output_acc: 0.8232 - val_bag_output_acc: 0.7037 - val_footwear_output_acc: 0.6210 - val_pose_output_acc: 0.7457 - val_emotion_output_acc: 0.8534\n",
            "\n",
            "\n",
            "Epoch 00006: val_loss did not improve from 4.29626\n",
            "Epoch 7/50\n",
            " - 263s - loss: 4.0383 - gender_output_loss: 0.6096 - image_quality_output_loss: 0.5600 - age_output_loss: 0.4520 - weight_output_loss: 0.4202 - bag_output_loss: 0.5416 - footwear_output_loss: 0.5281 - pose_output_loss: 0.5435 - emotion_output_loss: 0.3833 - gender_output_acc: 0.6597 - image_quality_output_acc: 0.6984 - age_output_acc: 0.7998 - weight_output_acc: 0.8168 - bag_output_acc: 0.7120 - footwear_output_acc: 0.7411 - pose_output_acc: 0.7440 - emotion_output_acc: 0.8563 - val_loss: 4.2303 - val_gender_output_loss: 0.7414 - val_image_quality_output_loss: 0.5897 - val_age_output_loss: 0.4531 - val_weight_output_loss: 0.4178 - val_bag_output_loss: 0.5581 - val_footwear_output_loss: 0.5328 - val_pose_output_loss: 0.5490 - val_emotion_output_loss: 0.3884 - val_gender_output_acc: 0.6099 - val_image_quality_output_acc: 0.7070 - val_age_output_acc: 0.8000 - val_weight_output_acc: 0.8227 - val_bag_output_acc: 0.7037 - val_footwear_output_acc: 0.7416 - val_pose_output_acc: 0.7454 - val_emotion_output_acc: 0.8534\n",
            "\n",
            "Epoch 00007: val_loss improved from 4.29626 to 4.23030, saving model to /content/gdrive/My Drive/SavedModels/checkpoints/parallel_mod_epochs:007-val_loss:4.230.hdf5\n",
            "Epoch 8/50\n",
            " - 262s - loss: 3.9975 - gender_output_loss: 0.5815 - image_quality_output_loss: 0.5603 - age_output_loss: 0.4515 - weight_output_loss: 0.4205 - bag_output_loss: 0.5383 - footwear_output_loss: 0.5186 - pose_output_loss: 0.5436 - emotion_output_loss: 0.3831 - gender_output_acc: 0.6878 - image_quality_output_acc: 0.7001 - age_output_acc: 0.7991 - weight_output_acc: 0.8166 - bag_output_acc: 0.7174 - footwear_output_acc: 0.7460 - pose_output_acc: 0.7442 - emotion_output_acc: 0.8565 - val_loss: 4.2364 - val_gender_output_loss: 0.6754 - val_image_quality_output_loss: 0.5849 - val_age_output_loss: 0.4551 - val_weight_output_loss: 0.4182 - val_bag_output_loss: 0.5441 - val_footwear_output_loss: 0.6224 - val_pose_output_loss: 0.5477 - val_emotion_output_loss: 0.3884 - val_gender_output_acc: 0.6210 - val_image_quality_output_acc: 0.7105 - val_age_output_acc: 0.8000 - val_weight_output_acc: 0.8232 - val_bag_output_acc: 0.7047 - val_footwear_output_acc: 0.6648 - val_pose_output_acc: 0.7457 - val_emotion_output_acc: 0.8534\n",
            "\n",
            "Epoch 00008: val_loss did not improve from 4.23030\n",
            "Epoch 9/50\n",
            " - 263s - loss: 3.9592 - gender_output_loss: 0.5597 - image_quality_output_loss: 0.5584 - age_output_loss: 0.4504 - weight_output_loss: 0.4195 - bag_output_loss: 0.5362 - footwear_output_loss: 0.5112 - pose_output_loss: 0.5408 - emotion_output_loss: 0.3831 - gender_output_acc: 0.7183 - image_quality_output_acc: 0.7015 - age_output_acc: 0.7992 - weight_output_acc: 0.8166 - bag_output_acc: 0.7220 - footwear_output_acc: 0.7499 - pose_output_acc: 0.7450 - emotion_output_acc: 0.8564 - val_loss: 4.1392 - val_gender_output_loss: 0.6251 - val_image_quality_output_loss: 0.6003 - val_age_output_loss: 0.4539 - val_weight_output_loss: 0.4186 - val_bag_output_loss: 0.5393 - val_footwear_output_loss: 0.5709 - val_pose_output_loss: 0.5424 - val_emotion_output_loss: 0.3887 - val_gender_output_acc: 0.6756 - val_image_quality_output_acc: 0.7067 - val_age_output_acc: 0.7986 - val_weight_output_acc: 0.8232 - val_bag_output_acc: 0.7113 - val_footwear_output_acc: 0.7108 - val_pose_output_acc: 0.7401 - val_emotion_output_acc: 0.8534\n",
            "\n",
            "Epoch 00008: val_loss did not improve from 4.23030\n",
            "Epoch 9/50\n",
            "\n",
            "Epoch 00009: val_loss improved from 4.23030 to 4.13925, saving model to /content/gdrive/My Drive/SavedModels/checkpoints/parallel_mod_epochs:009-val_loss:4.139.hdf5\n",
            "Epoch 10/50\n",
            " - 262s - loss: 3.9319 - gender_output_loss: 0.5423 - image_quality_output_loss: 0.5550 - age_output_loss: 0.4511 - weight_output_loss: 0.4194 - bag_output_loss: 0.5326 - footwear_output_loss: 0.5116 - pose_output_loss: 0.5373 - emotion_output_loss: 0.3826 - gender_output_acc: 0.7280 - image_quality_output_acc: 0.7050 - age_output_acc: 0.7991 - weight_output_acc: 0.8166 - bag_output_acc: 0.7263 - footwear_output_acc: 0.7521 - pose_output_acc: 0.7468 - emotion_output_acc: 0.8564 - val_loss: 4.0831 - val_gender_output_loss: 0.6051 - val_image_quality_output_loss: 0.6146 - val_age_output_loss: 0.4523 - val_weight_output_loss: 0.4148 - val_bag_output_loss: 0.5360 - val_footwear_output_loss: 0.5301 - val_pose_output_loss: 0.5402 - val_emotion_output_loss: 0.3900 - val_gender_output_acc: 0.6724 - val_image_quality_output_acc: 0.6711 - val_age_output_acc: 0.7998 - val_weight_output_acc: 0.8232 - val_bag_output_acc: 0.7118 - val_footwear_output_acc: 0.7409 - val_pose_output_acc: 0.7474 - val_emotion_output_acc: 0.8534\n",
            "\n",
            "Epoch 00010: val_loss improved from 4.13925 to 4.08306, saving model to /content/gdrive/My Drive/SavedModels/checkpoints/parallel_mod_epochs:010-val_loss:4.083.hdf5\n",
            "Epoch 11/50\n",
            "\n",
            " - 263s - loss: 3.8993 - gender_output_loss: 0.5201 - image_quality_output_loss: 0.5553 - age_output_loss: 0.4506 - weight_output_loss: 0.4191 - bag_output_loss: 0.5316 - footwear_output_loss: 0.5094 - pose_output_loss: 0.5302 - emotion_output_loss: 0.3832 - gender_output_acc: 0.7505 - image_quality_output_acc: 0.7025 - age_output_acc: 0.7997 - weight_output_acc: 0.8168 - bag_output_acc: 0.7290 - footwear_output_acc: 0.7521 - pose_output_acc: 0.7516 - emotion_output_acc: 0.8564 - val_loss: 4.1122 - val_gender_output_loss: 0.5724 - val_image_quality_output_loss: 0.6425 - val_age_output_loss: 0.4521 - val_weight_output_loss: 0.4163 - val_bag_output_loss: 0.5373 - val_footwear_output_loss: 0.5784 - val_pose_output_loss: 0.5259 - val_emotion_output_loss: 0.3873 - val_gender_output_acc: 0.7049 - val_image_quality_output_acc: 0.6437 - val_age_output_acc: 0.7998 - val_weight_output_acc: 0.8232 - val_bag_output_acc: 0.7174 - val_footwear_output_acc: 0.7207 - val_pose_output_acc: 0.7525 - val_emotion_output_acc: 0.8534\n",
            "\n",
            "Epoch 00011: val_loss did not improve from 4.08306\n",
            "Epoch 12/50\n",
            " - 263s - loss: 3.8481 - gender_output_loss: 0.4994 - image_quality_output_loss: 0.5544 - age_output_loss: 0.4495 - weight_output_loss: 0.4192 - bag_output_loss: 0.5271 - footwear_output_loss: 0.5035 - pose_output_loss: 0.5123 - emotion_output_loss: 0.3828 - gender_output_acc: 0.7591 - image_quality_output_acc: 0.7047 - age_output_acc: 0.7992 - weight_output_acc: 0.8169 - bag_output_acc: 0.7320 - footwear_output_acc: 0.7573 - pose_output_acc: 0.7602 - emotion_output_acc: 0.8562 - val_loss: 4.7799 - val_gender_output_loss: 0.7530 - val_image_quality_output_loss: 0.6782 - val_age_output_loss: 0.4540 - val_weight_output_loss: 0.4177 - val_bag_output_loss: 0.5980 - val_footwear_output_loss: 0.9289 - val_pose_output_loss: 0.5622 - val_emotion_output_loss: 0.3878 - val_gender_output_acc: 0.6143 - val_image_quality_output_acc: 0.6200 - val_age_output_acc: 0.8000 - val_weight_output_acc: 0.8227 - val_bag_output_acc: 0.7042 - val_footwear_output_acc: 0.6448 - val_pose_output_acc: 0.7459 - val_emotion_output_acc: 0.8534\n",
            "\n",
            "Epoch 00012: val_loss did not improve from 4.08306\n",
            "Epoch 13/50\n",
            " - 263s - loss: 3.8481 - gender_output_loss: 0.4994 - image_quality_output_loss: 0.5544 - age_output_loss: 0.4495 - weight_output_loss: 0.4192 - bag_output_loss: 0.5271 - footwear_output_loss: 0.5035 - pose_output_loss: 0.5123 - emotion_output_loss: 0.3828 - gender_output_acc: 0.7591 - image_quality_output_acc: 0.7047 - age_output_acc: 0.7992 - weight_output_acc: 0.8169 - bag_output_acc: 0.7320 - footwear_output_acc: 0.7573 - pose_output_acc: 0.7602 - emotion_output_acc: 0.8562 - val_loss: 4.7799 - val_gender_output_loss: 0.7530 - val_image_quality_output_loss: 0.6782 - val_age_output_loss: 0.4540 - val_weight_output_loss: 0.4177 - val_bag_output_loss: 0.5980 - val_footwear_output_loss: 0.9289 - val_pose_output_loss: 0.5622 - val_emotion_output_loss: 0.3878 - val_gender_output_acc: 0.6143 - val_image_quality_output_acc: 0.6200 - val_age_output_acc: 0.8000 - val_weight_output_acc: 0.8227 - val_bag_output_acc: 0.7042 - val_footwear_output_acc: 0.6448 - val_pose_output_acc: 0.7459 - val_emotion_output_acc: 0.8534\n",
            " - 263s - loss: 3.7966 - gender_output_loss: 0.4857 - image_quality_output_loss: 0.5560 - age_output_loss: 0.4495 - weight_output_loss: 0.4188 - bag_output_loss: 0.5249 - footwear_output_loss: 0.5012 - pose_output_loss: 0.4808 - emotion_output_loss: 0.3796 - gender_output_acc: 0.7722 - image_quality_output_acc: 0.7061 - age_output_acc: 0.7999 - weight_output_acc: 0.8169 - bag_output_acc: 0.7308 - footwear_output_acc: 0.7564 - pose_output_acc: 0.7803 - emotion_output_acc: 0.8563 - val_loss: 4.1073 - val_gender_output_loss: 0.5676 - val_image_quality_output_loss: 0.6050 - val_age_output_loss: 0.4503 - val_weight_output_loss: 0.4184 - val_bag_output_loss: 0.5792 - val_footwear_output_loss: 0.5828 - val_pose_output_loss: 0.5150 - val_emotion_output_loss: 0.3890 - val_gender_output_acc: 0.7148 - val_image_quality_output_acc: 0.6739 - val_age_output_acc: 0.7995 - val_weight_output_acc: 0.8229 - val_bag_output_acc: 0.7183 - val_footwear_output_acc: 0.7092 - val_pose_output_acc: 0.7695 - val_emotion_output_acc: 0.8534\n",
            "\n",
            "Epoch 00013: val_loss did not improve from 4.08306\n",
            "Epoch 14/50\n",
            " - 263s - loss: 3.7338 - gender_output_loss: 0.4664 - image_quality_output_loss: 0.5550 - age_output_loss: 0.4497 - weight_output_loss: 0.4172 - bag_output_loss: 0.5245 - footwear_output_loss: 0.5004 - pose_output_loss: 0.4435 - emotion_output_loss: 0.3770 - gender_output_acc: 0.7858 - image_quality_output_acc: 0.7041 - age_output_acc: 0.7993 - weight_output_acc: 0.8166 - bag_output_acc: 0.7326 - footwear_output_acc: 0.7579 - pose_output_acc: 0.8018 - emotion_output_acc: 0.8565 - val_loss: 4.2021 - val_gender_output_loss: 0.6353 - val_image_quality_output_loss: 0.5784 - val_age_output_loss: 0.4589 - val_weight_output_loss: 0.4184 - val_bag_output_loss: 0.5498 - val_footwear_output_loss: 0.6794 - val_pose_output_loss: 0.4981 - val_emotion_output_loss: 0.3839 - val_gender_output_acc: 0.6448 - val_image_quality_output_acc: 0.7045 - val_age_output_acc: 0.7999 - val_weight_output_acc: 0.8230 - val_bag_output_acc: 0.7131 - val_footwear_output_acc: 0.6743 - val_pose_output_acc: 0.7765 - val_emotion_output_acc: 0.8534\n",
            "\n",
            "Epoch 00014: val_loss did not improve from 4.08306\n",
            "Epoch 15/50\n",
            " - 262s - loss: 3.6809 - gender_output_loss: 0.4519 - image_quality_output_loss: 0.5513 - age_output_loss: 0.4499 - weight_output_loss: 0.4179 - bag_output_loss: 0.5218 - footwear_output_loss: 0.4944 - pose_output_loss: 0.4186 - emotion_output_loss: 0.3751 - gender_output_acc: 0.7938 - image_quality_output_acc: 0.7089 - age_output_acc: 0.7994 - weight_output_acc: 0.8166 - bag_output_acc: 0.7364 - footwear_output_acc: 0.7645 - pose_output_acc: 0.8135 - emotion_output_acc: 0.8564 - val_loss: 3.9246 - val_gender_output_loss: 0.4935 - val_image_quality_output_loss: 0.6317 - val_age_output_loss: 0.4485 - val_weight_output_loss: 0.4174 - val_bag_output_loss: 0.5240 - val_footwear_output_loss: 0.5863 - val_pose_output_loss: 0.4434 - val_emotion_output_loss: 0.3798 - val_gender_output_acc: 0.7555 - val_image_quality_output_acc: 0.6563 - val_age_output_acc: 0.7997 - val_weight_output_acc: 0.8214 - val_bag_output_acc: 0.7308 - val_footwear_output_acc: 0.7262 - val_pose_output_acc: 0.7989 - val_emotion_output_acc: 0.8534\n",
            "\n",
            "Epoch 00015: val_loss improved from 4.08306 to 3.92461, saving model to /content/gdrive/My Drive/SavedModels/checkpoints/parallel_mod_epochs:015-val_loss:3.925.hdf5\n",
            " - 263s - loss: 3.7338 - gender_output_loss: 0.4664 - image_quality_output_loss: 0.5550 - age_output_loss: 0.4497 - weight_output_loss: 0.4172 - bag_output_loss: 0.5245 - footwear_output_loss: 0.5004 - pose_output_loss: 0.4435 - emotion_output_loss: 0.3770 - gender_output_acc: 0.7858 - image_quality_output_acc: 0.7041 - age_output_acc: 0.7993 - weight_output_acc: 0.8166 - bag_output_acc: 0.7326 - footwear_output_acc: 0.7579 - pose_output_acc: 0.8018 - emotion_output_acc: 0.8565 - val_loss: 4.2021 - val_gender_output_loss: 0.6353 - val_image_quality_output_loss: 0.5784 - val_age_output_loss: 0.4589 - val_weight_output_loss: 0.4184 - val_bag_output_loss: 0.5498 - val_footwear_output_loss: 0.6794 - val_pose_output_loss: 0.4981 - val_emotion_output_loss: 0.3839 - val_gender_output_acc: 0.6448 - val_image_quality_output_acc: 0.7045 - val_age_output_acc: 0.7999 - val_weight_output_acc: 0.8230 - val_bag_output_acc: 0.7131 - val_footwear_output_acc: 0.6743 - val_pose_output_acc: 0.7765 - val_emotion_output_acc: 0.8534\n",
            "Epoch 16/50\n",
            " - 262s - loss: 3.6380 - gender_output_loss: 0.4303 - image_quality_output_loss: 0.5538 - age_output_loss: 0.4488 - weight_output_loss: 0.4171 - bag_output_loss: 0.5186 - footwear_output_loss: 0.4911 - pose_output_loss: 0.4044 - emotion_output_loss: 0.3740 - gender_output_acc: 0.8037 - image_quality_output_acc: 0.7099 - age_output_acc: 0.7997 - weight_output_acc: 0.8176 - bag_output_acc: 0.7391 - footwear_output_acc: 0.7653 - pose_output_acc: 0.8227 - emotion_output_acc: 0.8559 - val_loss: 3.7660 - val_gender_output_loss: 0.4577 - val_image_quality_output_loss: 0.5916 - val_age_output_loss: 0.4499 - val_weight_output_loss: 0.4119 - val_bag_output_loss: 0.5288 - val_footwear_output_loss: 0.5186 - val_pose_output_loss: 0.4288 - val_emotion_output_loss: 0.3786 - val_gender_output_acc: 0.7974 - val_image_quality_output_acc: 0.6987 - val_age_output_acc: 0.7995 - val_weight_output_acc: 0.8233 - val_bag_output_acc: 0.7270 - val_footwear_output_acc: 0.7480 - val_pose_output_acc: 0.8135 - val_emotion_output_acc: 0.8534\n",
            "\n",
            "Epoch 00016: val_loss improved from 3.92461 to 3.76600, saving model to /content/gdrive/My Drive/SavedModels/checkpoints/parallel_mod_epochs:016-val_loss:3.766.hdf5\n",
            "Epoch 17/50\n",
            " - 262s - loss: 3.5968 - gender_output_loss: 0.4179 - image_quality_output_loss: 0.5515 - age_output_loss: 0.4486 - weight_output_loss: 0.4175 - bag_output_loss: 0.5162 - footwear_output_loss: 0.4803 - pose_output_loss: 0.3905 - emotion_output_loss: 0.3743 - gender_output_acc: 0.8153 - image_quality_output_acc: 0.7089 - age_output_acc: 0.7997 - weight_output_acc: 0.8171 - bag_output_acc: 0.7421 - footwear_output_acc: 0.7683 - pose_output_acc: 0.8295 - emotion_output_acc: 0.8565 - val_loss: 3.7013 - val_gender_output_loss: 0.4318 - val_image_quality_output_loss: 0.5970 - val_age_output_loss: 0.4496 - val_weight_output_loss: 0.4110 - val_bag_output_loss: 0.5297 - val_footwear_output_loss: 0.5046 - val_pose_output_loss: 0.4008 - val_emotion_output_loss: 0.3770 - val_gender_output_acc: 0.8011 - val_image_quality_output_acc: 0.7037 - val_age_output_acc: 0.7977 - val_weight_output_acc: 0.8239 - val_bag_output_acc: 0.7255 - val_footwear_output_acc: 0.7526 - val_pose_output_acc: 0.8122 - val_emotion_output_acc: 0.8534\n",
            "\n",
            "Epoch 00017: val_loss improved from 3.76600 to 3.70134, saving model to /content/gdrive/My Drive/SavedModels/checkpoints/parallel_mod_epochs:017-val_loss:3.701.hdf5\n",
            "Epoch 18/50\n",
            " - 262s - loss: 3.5691 - gender_output_loss: 0.4024 - image_quality_output_loss: 0.5512 - age_output_loss: 0.4487 - weight_output_loss: 0.4166 - bag_output_loss: 0.5164 - footwear_output_loss: 0.4844 - pose_output_loss: 0.3768 - emotion_output_loss: 0.3727 - gender_output_acc: 0.8236 - image_quality_output_acc: 0.7096 - age_output_acc: 0.8000 - weight_output_acc: 0.8169 - bag_output_acc: 0.7442 - footwear_output_acc: 0.7733 - pose_output_acc: 0.8342 - emotion_output_acc: 0.8562 - val_loss: 4.2584 - val_gender_output_loss: 0.5580 - val_image_quality_output_loss: 0.9271 - val_age_output_loss: 0.4500 - val_weight_output_loss: 0.4133 - val_bag_output_loss: 0.5961 - val_footwear_output_loss: 0.5240 - val_pose_output_loss: 0.3993 - val_emotion_output_loss: 0.3907 - val_gender_output_acc: 0.7178 - val_image_quality_output_acc: 0.5182 - val_age_output_acc: 0.8002 - val_weight_output_acc: 0.8232 - val_bag_output_acc: 0.7054 - val_footwear_output_acc: 0.7526 - val_pose_output_acc: 0.8156 - val_emotion_output_acc: 0.8534\n",
            "\n",
            "Epoch 00018: val_loss did not improve from 3.70134\n",
            "Epoch 19/50\n",
            " - 263s - loss: 3.5256 - gender_output_loss: 0.3801 - image_quality_output_loss: 0.5485 - age_output_loss: 0.4480 - weight_output_loss: 0.4157 - bag_output_loss: 0.5131 - footwear_output_loss: 0.4829 - pose_output_loss: 0.3663 - emotion_output_loss: 0.3711 - gender_output_acc: 0.8390 - image_quality_output_acc: 0.7093 - age_output_acc: 0.8003 - weight_output_acc: 0.8173 - bag_output_acc: 0.7466 - footwear_output_acc: 0.7711 - pose_output_acc: 0.8406 - emotion_output_acc: 0.8562 - val_loss: 3.8836 - val_gender_output_loss: 0.4539 - val_image_quality_output_loss: 0.7461 - val_age_output_loss: 0.4506 - val_weight_output_loss: 0.4123 - val_bag_output_loss: 0.5431 - val_footwear_output_loss: 0.5093 - val_pose_output_loss: 0.3898 - val_emotion_output_loss: 0.3786 - val_gender_output_acc: 0.7917 - val_image_quality_output_acc: 0.5771 - val_age_output_acc: 0.7993 - val_weight_output_acc: 0.8234 - val_bag_output_acc: 0.7257 - val_footwear_output_acc: 0.7586 - val_pose_output_acc: 0.8264 - val_emotion_output_acc: 0.8532\n",
            "\n",
            "Epoch 00019: val_loss did not improve from 3.70134\n",
            "Epoch 20/50\n",
            " - 263s - loss: 3.5073 - gender_output_loss: 0.3694 - image_quality_output_loss: 0.5492 - age_output_loss: 0.4481 - weight_output_loss: 0.4162 - bag_output_loss: 0.5123 - footwear_output_loss: 0.4772 - pose_output_loss: 0.3628 - emotion_output_loss: 0.3720 - gender_output_acc: 0.8413 - image_quality_output_acc: 0.7093 - age_output_acc: 0.7997 - weight_output_acc: 0.8175 - bag_output_acc: 0.7455 - footwear_output_acc: 0.7738 - pose_output_acc: 0.8426 - emotion_output_acc: 0.8561 - val_loss: 3.8231 - val_gender_output_loss: 0.4218 - val_image_quality_output_loss: 0.7166 - val_age_output_loss: 0.4534 - val_weight_output_loss: 0.4123 - val_bag_output_loss: 0.5114 - val_footwear_output_loss: 0.4941 - val_pose_output_loss: 0.4362 - val_emotion_output_loss: 0.3774 - val_gender_output_acc: 0.8023 - val_image_quality_output_acc: 0.6027 - val_age_output_acc: 0.7952 - val_weight_output_acc: 0.8222 - val_bag_output_acc: 0.7431 - val_footwear_output_acc: 0.7611 - val_pose_output_acc: 0.8163 - val_emotion_output_acc: 0.8534\n",
            "\n",
            "Epoch 00020: val_loss did not improve from 3.70134\n",
            "Epoch 21/50\n",
            " - 262s - loss: 3.4711 - gender_output_loss: 0.3589 - image_quality_output_loss: 0.5462 - age_output_loss: 0.4480 - weight_output_loss: 0.4146 - bag_output_loss: 0.5075 - footwear_output_loss: 0.4755 - pose_output_loss: 0.3498 - emotion_output_loss: 0.3706 - gender_output_acc: 0.8472 - image_quality_output_acc: 0.7119 - age_output_acc: 0.7997 - weight_output_acc: 0.8177 - bag_output_acc: 0.7498 - footwear_output_acc: 0.7750 - pose_output_acc: 0.8490 - emotion_output_acc: 0.8560 - val_loss: 3.5626 - val_gender_output_loss: 0.3956 - val_image_quality_output_loss: 0.5636 - val_age_output_loss: 0.4492 - val_weight_output_loss: 0.4099 - val_bag_output_loss: 0.5149 - val_footwear_output_loss: 0.4824 - val_pose_output_loss: 0.3689 - val_emotion_output_loss: 0.3781 - val_gender_output_acc: 0.8177 - val_image_quality_output_acc: 0.7088 - val_age_output_acc: 0.7997 - val_weight_output_acc: 0.8251 - val_bag_output_acc: 0.7350 - val_footwear_output_acc: 0.7722 - val_pose_output_acc: 0.8337 - val_emotion_output_acc: 0.8532\n",
            "\n",
            "Epoch 21/50\n",
            "\n",
            "Epoch 00021: val_loss improved from 3.70134 to 3.56262, saving model to /content/gdrive/My Drive/SavedModels/checkpoints/parallel_mod_epochs:021-val_loss:3.563.hdf5\n",
            "Epoch 22/50\n",
            "\n",
            "Epoch 00021: val_loss improved from 3.70134 to 3.56262, saving model to /content/gdrive/My Drive/SavedModels/checkpoints/parallel_mod_epochs:021-val_loss:3.563.hdf5 - 262s - loss: 3.4655 - gender_output_loss: 0.3540 - image_quality_output_loss: 0.5454 - age_output_loss: 0.4479 - weight_output_loss: 0.4157 - bag_output_loss: 0.5108 - footwear_output_loss: 0.4733 - pose_output_loss: 0.3482 - emotion_output_loss: 0.3701 - gender_output_acc: 0.8459 - image_quality_output_acc: 0.7107 - age_output_acc: 0.8003 - weight_output_acc: 0.8169 - bag_output_acc: 0.7498 - footwear_output_acc: 0.7768 - pose_output_acc: 0.8493 - emotion_output_acc: 0.8560 - val_loss: 3.7935 - val_gender_output_loss: 0.4018 - val_image_quality_output_loss: 0.6959 - val_age_output_loss: 0.4472 - val_weight_output_loss: 0.4121 - val_bag_output_loss: 0.5242 - val_footwear_output_loss: 0.5142 - val_pose_output_loss: 0.4180 - val_emotion_output_loss: 0.3801 - val_gender_output_acc: 0.8080 - val_image_quality_output_acc: 0.6098 - val_age_output_acc: 0.8000 - val_weight_output_acc: 0.8237 - val_bag_output_acc: 0.7384 - val_footwear_output_acc: 0.7541 - val_pose_output_acc: 0.8102 - val_emotion_output_acc: 0.8534\n",
            "\n",
            "Epoch 00022: val_loss did not improve from 3.56262\n",
            "Epoch 23/50\n",
            " - 262s - loss: 3.4335 - gender_output_loss: 0.3439 - image_quality_output_loss: 0.5449 - age_output_loss: 0.4476 - weight_output_loss: 0.4144 - bag_output_loss: 0.5052 - footwear_output_loss: 0.4688 - pose_output_loss: 0.3388 - emotion_output_loss: 0.3698 - gender_output_acc: 0.8558 - image_quality_output_acc: 0.7139 - age_output_acc: 0.7999 - weight_output_acc: 0.8177 - bag_output_acc: 0.7494 - footwear_output_acc: 0.7808 - pose_output_acc: 0.8570 - emotion_output_acc: 0.8560 - val_loss: 3.5353 - val_gender_output_loss: 0.3878 - val_image_quality_output_loss: 0.5762 - val_age_output_loss: 0.4478 - val_weight_output_loss: 0.4124 - val_bag_output_loss: 0.5119 - val_footwear_output_loss: 0.4857 - val_pose_output_loss: 0.3376 - val_emotion_output_loss: 0.3760 - val_gender_output_acc: 0.8294 - val_image_quality_output_acc: 0.6936 - val_age_output_acc: 0.7996 - val_weight_output_acc: 0.8245 - val_bag_output_acc: 0.7431 - val_footwear_output_acc: 0.7690 - val_pose_output_acc: 0.8514 - val_emotion_output_acc: 0.8531\n",
            "\n",
            "Epoch 00022: val_loss did not improve from 3.56262\n",
            "Epoch 23/50\n",
            "\n",
            "Epoch 00023: val_loss improved from 3.56262 to 3.53530, saving model to /content/gdrive/My Drive/SavedModels/checkpoints/parallel_mod_epochs:023-val_loss:3.535.hdf5\n",
            "Epoch 24/50\n",
            " - 262s - loss: 3.4097 - gender_output_loss: 0.3331 - image_quality_output_loss: 0.5441 - age_output_loss: 0.4471 - weight_output_loss: 0.4151 - bag_output_loss: 0.5019 - footwear_output_loss: 0.4687 - pose_output_loss: 0.3307 - emotion_output_loss: 0.3691 - gender_output_acc: 0.8611 - image_quality_output_acc: 0.7145 - age_output_acc: 0.7995 - weight_output_acc: 0.8175 - bag_output_acc: 0.7549 - footwear_output_acc: 0.7807 - pose_output_acc: 0.8575 - emotion_output_acc: 0.8560 - val_loss: 3.7576 - val_gender_output_loss: 0.4169 - val_image_quality_output_loss: 0.6578 - val_age_output_loss: 0.4481 - val_weight_output_loss: 0.4086 - val_bag_output_loss: 0.5352 - val_footwear_output_loss: 0.5088 - val_pose_output_loss: 0.4054 - val_emotion_output_loss: 0.3769 - val_gender_output_acc: 0.8051 - val_image_quality_output_acc: 0.6453 - val_age_output_acc: 0.8001 - val_weight_output_acc: 0.8233 - val_bag_output_acc: 0.7278 - val_footwear_output_acc: 0.7550 - val_pose_output_acc: 0.8186 - val_emotion_output_acc: 0.8537\n",
            "\n",
            "Epoch 00024: val_loss did not improve from 3.53530\n",
            "Epoch 25/50\n",
            "\n",
            "Epoch 00023: val_loss improved from 3.56262 to 3.53530, saving model to /content/gdrive/My Drive/SavedModels/checkpoints/parallel_mod_epochs:023-val_loss:3.535.hdf5\n",
            " - 262s - loss: 3.3804 - gender_output_loss: 0.3191 - image_quality_output_loss: 0.5435 - age_output_loss: 0.4472 - weight_output_loss: 0.4139 - bag_output_loss: 0.4992 - footwear_output_loss: 0.4630 - pose_output_loss: 0.3256 - emotion_output_loss: 0.3689 - gender_output_acc: 0.8710 - image_quality_output_acc: 0.7136 - age_output_acc: 0.7999 - weight_output_acc: 0.8184 - bag_output_acc: 0.7554 - footwear_output_acc: 0.7822 - pose_output_acc: 0.8624 - emotion_output_acc: 0.8558 - val_loss: 3.9844 - val_gender_output_loss: 0.4517 - val_image_quality_output_loss: 0.8078 - val_age_output_loss: 0.4542 - val_weight_output_loss: 0.4117 - val_bag_output_loss: 0.5229 - val_footwear_output_loss: 0.5442 - val_pose_output_loss: 0.4028 - val_emotion_output_loss: 0.3891 - val_gender_output_acc: 0.7907 - val_image_quality_output_acc: 0.5493 - val_age_output_acc: 0.7963 - val_weight_output_acc: 0.8248 - val_bag_output_acc: 0.7216 - val_footwear_output_acc: 0.7470 - val_pose_output_acc: 0.8161 - val_emotion_output_acc: 0.8533\n",
            "\n",
            "Epoch 00025: val_loss did not improve from 3.53530\n",
            "Epoch 26/50\n",
            "\n",
            "Epoch 25/50\n",
            " - 262s - loss: 3.3529 - gender_output_loss: 0.3062 - image_quality_output_loss: 0.5407 - age_output_loss: 0.4470 - weight_output_loss: 0.4143 - bag_output_loss: 0.4988 - footwear_output_loss: 0.4641 - pose_output_loss: 0.3146 - emotion_output_loss: 0.3671 - gender_output_acc: 0.8751 - image_quality_output_acc: 0.7157 - age_output_acc: 0.8005 - weight_output_acc: 0.8180 - bag_output_acc: 0.7559 - footwear_output_acc: 0.7826 - pose_output_acc: 0.8708 - emotion_output_acc: 0.8562 - val_loss: 3.7688 - val_gender_output_loss: 0.4261 - val_image_quality_output_loss: 0.7082 - val_age_output_loss: 0.4470 - val_weight_output_loss: 0.4082 - val_bag_output_loss: 0.5117 - val_footwear_output_loss: 0.4970 - val_pose_output_loss: 0.3932 - val_emotion_output_loss: 0.3774 - val_gender_output_acc: 0.8043 - val_image_quality_output_acc: 0.6012 - val_age_output_acc: 0.7980 - val_weight_output_acc: 0.8247 - val_bag_output_acc: 0.7386 - val_footwear_output_acc: 0.7639 - val_pose_output_acc: 0.8209 - val_emotion_output_acc: 0.8529\n",
            "\n",
            "Epoch 00026: val_loss did not improve from 3.53530\n",
            "Epoch 27/50\n",
            " - 262s - loss: 3.3411 - gender_output_loss: 0.3023 - image_quality_output_loss: 0.5423 - age_output_loss: 0.4463 - weight_output_loss: 0.4146 - bag_output_loss: 0.4946 - footwear_output_loss: 0.4585 - pose_output_loss: 0.3152 - emotion_output_loss: 0.3672 - gender_output_acc: 0.8773 - image_quality_output_acc: 0.7116 - age_output_acc: 0.7999 - weight_output_acc: 0.8175 - bag_output_acc: 0.7604 - footwear_output_acc: 0.7854 - pose_output_acc: 0.8696 - emotion_output_acc: 0.8558 - val_loss: 3.6350 - val_gender_output_loss: 0.3762 - val_image_quality_output_loss: 0.6640 - val_age_output_loss: 0.4538 - val_weight_output_loss: 0.4098 - val_bag_output_loss: 0.5278 - val_footwear_output_loss: 0.4775 - val_pose_output_loss: 0.3460 - val_emotion_output_loss: 0.3799 - val_gender_output_acc: 0.8482 - val_image_quality_output_acc: 0.6473 - val_age_output_acc: 0.7992 - val_weight_output_acc: 0.8243 - val_bag_output_acc: 0.7431 - val_footwear_output_acc: 0.7768 - val_pose_output_acc: 0.8469 - val_emotion_output_acc: 0.8527\n",
            "\n",
            "Epoch 00027: val_loss did not improve from 3.53530\n",
            "Epoch 28/50\n",
            " - 262s - loss: 3.3245 - gender_output_loss: 0.2930 - image_quality_output_loss: 0.5392 - age_output_loss: 0.4464 - weight_output_loss: 0.4135 - bag_output_loss: 0.4957 - footwear_output_loss: 0.4616 - pose_output_loss: 0.3075 - emotion_output_loss: 0.3676 - gender_output_acc: 0.8817 - image_quality_output_acc: 0.7157 - age_output_acc: 0.7999 - weight_output_acc: 0.8187 - bag_output_acc: 0.7603 - footwear_output_acc: 0.7831 - pose_output_acc: 0.8735 - emotion_output_acc: 0.8563 - val_loss: 3.9477 - val_gender_output_loss: 0.4309 - val_image_quality_output_loss: 0.7257 - val_age_output_loss: 0.4476 - val_weight_output_loss: 0.4099 - val_bag_output_loss: 0.5391 - val_footwear_output_loss: 0.4780 - val_pose_output_loss: 0.5404 - val_emotion_output_loss: 0.3762 - val_gender_output_acc: 0.8271 - val_image_quality_output_acc: 0.5936 - val_age_output_acc: 0.7964 - val_weight_output_acc: 0.8235 - val_bag_output_acc: 0.7326 - val_footwear_output_acc: 0.7743 - val_pose_output_acc: 0.8064 - val_emotion_output_acc: 0.8529\n",
            "\n",
            "Epoch 00027: val_loss did not improve from 3.53530\n",
            "Epoch 00028: ReduceLROnPlateau reducing learning rate to 0.0005000000237487257.\n",
            "\n",
            "Epoch 00028: val_loss did not improve from 3.53530\n",
            "Epoch 29/50\n",
            " - 262s - loss: 3.2429 - gender_output_loss: 0.2607 - image_quality_output_loss: 0.5365 - age_output_loss: 0.4448 - weight_output_loss: 0.4124 - bag_output_loss: 0.4850 - footwear_output_loss: 0.4489 - pose_output_loss: 0.2903 - emotion_output_loss: 0.3644 - gender_output_acc: 0.8969 - image_quality_output_acc: 0.7188 - age_output_acc: 0.8000 - weight_output_acc: 0.8176 - bag_output_acc: 0.7698 - footwear_output_acc: 0.7892 - pose_output_acc: 0.8813 - emotion_output_acc: 0.8560 - val_loss: 3.6470 - val_gender_output_loss: 0.3726 - val_image_quality_output_loss: 0.6954 - val_age_output_loss: 0.4459 - val_weight_output_loss: 0.4086 - val_bag_output_loss: 0.5132 - val_footwear_output_loss: 0.4697 - val_pose_output_loss: 0.3659 - val_emotion_output_loss: 0.3756 - val_gender_output_acc: 0.8472 - val_image_quality_output_acc: 0.6184 - val_age_output_acc: 0.8014 - val_weight_output_acc: 0.8247 - val_bag_output_acc: 0.7409 - val_footwear_output_acc: 0.7760 - val_pose_output_acc: 0.8449 - val_emotion_output_acc: 0.8523\n",
            "\n",
            "Epoch 00029: val_loss did not improve from 3.53530\n",
            "Epoch 30/50\n",
            " - 263s - loss: 3.1968 - gender_output_loss: 0.2431 - image_quality_output_loss: 0.5323 - age_output_loss: 0.4448 - weight_output_loss: 0.4098 - bag_output_loss: 0.4780 - footwear_output_loss: 0.4480 - pose_output_loss: 0.2777 - emotion_output_loss: 0.3631 - gender_output_acc: 0.9026 - image_quality_output_acc: 0.7223 - age_output_acc: 0.7995 - weight_output_acc: 0.8196 - bag_output_acc: 0.7724 - footwear_output_acc: 0.7905 - pose_output_acc: 0.8871 - emotion_output_acc: 0.8565 - val_loss: 3.6492 - val_gender_output_loss: 0.3998 - val_image_quality_output_loss: 0.6554 - val_age_output_loss: 0.4489 - val_weight_output_loss: 0.4098 - val_bag_output_loss: 0.5323 - val_footwear_output_loss: 0.4759 - val_pose_output_loss: 0.3454 - val_emotion_output_loss: 0.3818 - val_gender_output_acc: 0.8338 - val_image_quality_output_acc: 0.6447 - val_age_output_acc: 0.8000 - val_weight_output_acc: 0.8247 - val_bag_output_acc: 0.7364 - val_footwear_output_acc: 0.7794 - val_pose_output_acc: 0.8614 - val_emotion_output_acc: 0.8535\n",
            "\n",
            "Epoch 00030: val_loss did not improve from 3.53530\n",
            "Epoch 31/50\n",
            " - 262s - loss: 3.1833 - gender_output_loss: 0.2371 - image_quality_output_loss: 0.5331 - age_output_loss: 0.4439 - weight_output_loss: 0.4103 - bag_output_loss: 0.4750 - footwear_output_loss: 0.4466 - pose_output_loss: 0.2736 - emotion_output_loss: 0.3637 - gender_output_acc: 0.9084 - image_quality_output_acc: 0.7204 - age_output_acc: 0.8002 - weight_output_acc: 0.8193 - bag_output_acc: 0.7767 - footwear_output_acc: 0.7913 - pose_output_acc: 0.8894 - emotion_output_acc: 0.8565 - val_loss: 3.6097 - val_gender_output_loss: 0.3677 - val_image_quality_output_loss: 0.6596 - val_age_output_loss: 0.4470 - val_weight_output_loss: 0.4096 - val_bag_output_loss: 0.5148 - val_footwear_output_loss: 0.4937 - val_pose_output_loss: 0.3422 - val_emotion_output_loss: 0.3752 - val_gender_output_acc: 0.8524 - val_image_quality_output_acc: 0.6529 - val_age_output_acc: 0.7994 - val_weight_output_acc: 0.8268 - val_bag_output_acc: 0.7454 - val_footwear_output_acc: 0.7669 - val_pose_output_acc: 0.8601 - val_emotion_output_acc: 0.8519\n",
            "\n",
            "Epoch 00031: val_loss did not improve from 3.53530\n",
            "Epoch 32/50\n",
            "\n",
            "Epoch 00031: val_loss did not improve from 3.53530\n",
            "Epoch 32/50\n",
            " - 263s - loss: 3.1590 - gender_output_loss: 0.2286 - image_quality_output_loss: 0.5321 - age_output_loss: 0.4429 - weight_output_loss: 0.4083 - bag_output_loss: 0.4757 - footwear_output_loss: 0.4413 - pose_output_loss: 0.2672 - emotion_output_loss: 0.3629 - gender_output_acc: 0.9122 - image_quality_output_acc: 0.7214 - age_output_acc: 0.7998 - weight_output_acc: 0.8204 - bag_output_acc: 0.7751 - footwear_output_acc: 0.7935 - pose_output_acc: 0.8930 - emotion_output_acc: 0.8567 - val_loss: 3.8258 - val_gender_output_loss: 0.4393 - val_image_quality_output_loss: 0.7364 - val_age_output_loss: 0.4501 - val_weight_output_loss: 0.4119 - val_bag_output_loss: 0.5507 - val_footwear_output_loss: 0.5064 - val_pose_output_loss: 0.3411 - val_emotion_output_loss: 0.3897 - val_gender_output_acc: 0.8242 - val_image_quality_output_acc: 0.6136 - val_age_output_acc: 0.7998 - val_weight_output_acc: 0.8239 - val_bag_output_acc: 0.7378 - val_footwear_output_acc: 0.7644 - val_pose_output_acc: 0.8573 - val_emotion_output_acc: 0.8493\n",
            "\n",
            "Epoch 00032: val_loss did not improve from 3.53530\n",
            "Epoch 33/50\n",
            " - 262s - loss: 3.1411 - gender_output_loss: 0.2179 - image_quality_output_loss: 0.5288 - age_output_loss: 0.4434 - weight_output_loss: 0.4093 - bag_output_loss: 0.4758 - footwear_output_loss: 0.4406 - pose_output_loss: 0.2637 - emotion_output_loss: 0.3616 - gender_output_acc: 0.9166 - image_quality_output_acc: 0.7250 - age_output_acc: 0.8000 - weight_output_acc: 0.8191 - bag_output_acc: 0.7765 - footwear_output_acc: 0.7949 - pose_output_acc: 0.8952 - emotion_output_acc: 0.8561 - val_loss: 3.7954 - val_gender_output_loss: 0.3866 - val_image_quality_output_loss: 0.8057 - val_age_output_loss: 0.4477 - val_weight_output_loss: 0.4097 - val_bag_output_loss: 0.5355 - val_footwear_output_loss: 0.5013 - val_pose_output_loss: 0.3274 - val_emotion_output_loss: 0.3815 - val_gender_output_acc: 0.8547 - val_image_quality_output_acc: 0.5878 - val_age_output_acc: 0.8010 - val_weight_output_acc: 0.8270 - val_bag_output_acc: 0.7422 - val_footwear_output_acc: 0.7644 - val_pose_output_acc: 0.8687 - val_emotion_output_acc: 0.8516\n",
            "\n",
            "Epoch 00033: ReduceLROnPlateau reducing learning rate to 0.0002500000118743628.\n",
            "\n",
            "Epoch 00033: val_loss did not improve from 3.53530\n"
          ],
          "name": "stdout"
        },
        {
          "output_type": "execute_result",
          "data": {
            "text/plain": [
              "<keras.callbacks.History at 0x7f5463a2b390>"
            ]
          },
          "metadata": {
            "tags": []
          },
          "execution_count": 17
        }
      ]
    },
    {
      "cell_type": "markdown",
      "metadata": {
        "id": "kUwqKCEz1vxv",
        "colab_type": "text"
      },
      "source": [
        "# **In the above log the Best RESULT is:**\n",
        "\n",
        "val_gender_output_acc: 0.7907 - <br/>\n",
        "val_image_quality_output_acc: 0.5493 - <br/>\n",
        "val_age_output_acc: 0.7963 - <br/>\n",
        "val_weight_output_acc: 0.8248 - <br/>\n",
        "val_bag_output_acc: 0.7216 - <br/>\n",
        "val_footwear_output_acc: 0.7470 - <br/>\n",
        "val_pose_output_acc: 0.8161 - <br/>\n",
        "val_emotion_output_acc: 0.8533\n"
      ]
    },
    {
      "cell_type": "code",
      "metadata": {
        "id": "1kKLCF9Nyblc",
        "colab_type": "code",
        "colab": {}
      },
      "source": [
        "mymodel= keras.models.load_model(\"/content/gdrive/My Drive/SavedModels/checkpoints/parallel_mod_epochs:023-val_loss:3.535.hdf5\")"
      ],
      "execution_count": 0,
      "outputs": []
    },
    {
      "cell_type": "code",
      "metadata": {
        "id": "-4nFK_ccy2kN",
        "colab_type": "code",
        "colab": {}
      },
      "source": [
        "def evaluate_model(model):\n",
        "    results = model.evaluate_generator(valid_gen, verbose=1)\n",
        "    accuracies = {}\n",
        "    losses = {}\n",
        "    for k, v in zip(model.metrics_names, results):\n",
        "        if k.endswith('acc'):\n",
        "            accuracies[k] = round(v * 100, 4) \n",
        "        else:\n",
        "            losses[k] = v\n",
        "    return accuracies"
      ],
      "execution_count": 0,
      "outputs": []
    },
    {
      "cell_type": "markdown",
      "metadata": {
        "id": "dLHqHa2G1PyV",
        "colab_type": "text"
      },
      "source": [
        "# **Best Result I could achieve form the above CNN Model for this Assignment:**"
      ]
    },
    {
      "cell_type": "code",
      "metadata": {
        "id": "qMuMAOfcz-G3",
        "colab_type": "code",
        "colab": {}
      },
      "source": [
        "mymodel_1= keras.models.load_model(\"/content/gdrive/My Drive/BestModels/epochs:081-val_loss:3.276.hdf5\")"
      ],
      "execution_count": 0,
      "outputs": []
    },
    {
      "cell_type": "code",
      "metadata": {
        "id": "UpFCCWCj0STY",
        "colab_type": "code",
        "outputId": "fe89346b-b460-4977-9d26-729f45de44fc",
        "colab": {
          "base_uri": "https://localhost:8080/",
          "height": 34
        }
      },
      "source": [
        "p = evaluate_model(mymodel_1)"
      ],
      "execution_count": 0,
      "outputs": [
        {
          "output_type": "stream",
          "text": [
            "63/63 [==============================] - 9s 139ms/step\n"
          ],
          "name": "stdout"
        }
      ]
    },
    {
      "cell_type": "code",
      "metadata": {
        "id": "2qfgQprizMf_",
        "colab_type": "code",
        "outputId": "cd3e673e-51ba-4851-92f4-0fd66092f47b",
        "colab": {
          "base_uri": "https://localhost:8080/",
          "height": 156
        }
      },
      "source": [
        "p"
      ],
      "execution_count": 0,
      "outputs": [
        {
          "output_type": "execute_result",
          "data": {
            "text/plain": [
              "{'age_output_acc': 80.0794,\n",
              " 'bag_output_acc': 77.7943,\n",
              " 'emotion_output_acc': 85.2803,\n",
              " 'footwear_output_acc': 78.1085,\n",
              " 'gender_output_acc': 87.9464,\n",
              " 'image_quality_output_acc': 73.1482,\n",
              " 'pose_output_acc': 88.4921,\n",
              " 'weight_output_acc': 82.1677}"
            ]
          },
          "metadata": {
            "tags": []
          },
          "execution_count": 40
        }
      ]
    }
  ]
}